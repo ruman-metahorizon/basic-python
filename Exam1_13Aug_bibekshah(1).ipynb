{
  "cells": [
    {
      "cell_type": "markdown",
      "metadata": {
        "id": "a3W7Zh7B3Idq"
      },
      "source": [
        "Q.1: Convert temp from celcius to fahrenheit"
      ]
    },
    {
      "cell_type": "code",
      "execution_count": null,
      "metadata": {
        "colab": {
          "base_uri": "https://localhost:8080/"
        },
        "id": "RDldub593HsN",
        "outputId": "ec5ee4da-54c3-4674-b25c-7d9ba48d5270"
      },
      "outputs": [
        {
          "name": "stdout",
          "output_type": "stream",
          "text": [
            "Enter celsius value:34\n",
            "93.2\n"
          ]
        }
      ],
      "source": [
        "def celsius_to_fahrenheit(celsius):\n",
        "    fahrenheit = (celsius * (9 / 5)) + 32\n",
        "    return fahrenheit\n",
        "\n",
        "\n",
        "celsius = float(input(\"Enter celsius value:\"))\n",
        "print(celsius_to_fahrenheit(celsius))\n",
        "\n"
      ]
    },
    {
      "cell_type": "markdown",
      "metadata": {
        "id": "FesLt5ny3QMv"
      },
      "source": [
        "Q.2: Given list of integers and find sum of all positive numbers"
      ]
    },
    {
      "cell_type": "code",
      "execution_count": null,
      "metadata": {
        "colab": {
          "base_uri": "https://localhost:8080/"
        },
        "id": "tBv69aiL3U-S",
        "outputId": "57427946-6bbe-4cad-9779-aff12b45f013"
      },
      "outputs": [
        {
          "output_type": "stream",
          "name": "stdout",
          "text": [
            "14\n"
          ]
        }
      ],
      "source": [
        "def sum_positive_integer(list):\n",
        "  positive_sum = 0\n",
        "  for i in list:\n",
        "    if i>0:\n",
        "      positive_sum += i\n",
        "  return positive_sum\n",
        "\n",
        "list = [-1,-2,-4,0,2,5,7]\n",
        "positive_sum = sum_positive_integer(list)\n",
        "print(positive_sum)\n",
        "\n"
      ]
    },
    {
      "cell_type": "markdown",
      "metadata": {
        "id": "qI-JUigu3Vvq"
      },
      "source": [
        "Q.3: write program to convert given number of days into years, weeks and days"
      ]
    },
    {
      "cell_type": "code",
      "execution_count": null,
      "metadata": {
        "colab": {
          "base_uri": "https://localhost:8080/",
          "height": 334
        },
        "id": "krx-lnkg3aXf",
        "outputId": "bc426056-7285-42a4-ad41-44526f15500c"
      },
      "outputs": [
        {
          "ename": "TypeError",
          "evalue": "ignored",
          "output_type": "error",
          "traceback": [
            "\u001b[0;31m---------------------------------------------------------------------------\u001b[0m",
            "\u001b[0;31mTypeError\u001b[0m                                 Traceback (most recent call last)",
            "\u001b[0;32m<ipython-input-8-a5ff5f98d6e5>\u001b[0m in \u001b[0;36m<cell line: 5>\u001b[0;34m()\u001b[0m\n\u001b[1;32m      3\u001b[0m \u001b[0;34m\u001b[0m\u001b[0m\n\u001b[1;32m      4\u001b[0m \u001b[0;34m\u001b[0m\u001b[0m\n\u001b[0;32m----> 5\u001b[0;31m \u001b[0myear_week_days\u001b[0m\u001b[0;34m(\u001b[0m\u001b[0;36m1000\u001b[0m\u001b[0;34m)\u001b[0m\u001b[0;34m\u001b[0m\u001b[0;34m\u001b[0m\u001b[0m\n\u001b[0m",
            "\u001b[0;32m<ipython-input-8-a5ff5f98d6e5>\u001b[0m in \u001b[0;36myear_week_days\u001b[0;34m(days)\u001b[0m\n\u001b[1;32m      1\u001b[0m \u001b[0;32mdef\u001b[0m \u001b[0myear_week_days\u001b[0m\u001b[0;34m(\u001b[0m\u001b[0mdays\u001b[0m\u001b[0;34m)\u001b[0m\u001b[0;34m:\u001b[0m\u001b[0;34m\u001b[0m\u001b[0;34m\u001b[0m\u001b[0m\n\u001b[0;32m----> 2\u001b[0;31m   \u001b[0mprint\u001b[0m\u001b[0;34m(\u001b[0m\u001b[0mdays\u001b[0m\u001b[0;34m/\u001b[0m\u001b[0;36m365\u001b[0m\u001b[0;34m,\u001b[0m\u001b[0;34m\"year\"\u001b[0m\u001b[0;34m,\u001b[0m\u001b[0;34m(\u001b[0m\u001b[0mdays\u001b[0m\u001b[0;34m-\u001b[0m\u001b[0;34m(\u001b[0m\u001b[0mdays\u001b[0m\u001b[0;34m/\u001b[0m\u001b[0;36m365\u001b[0m\u001b[0;34m)\u001b[0m\u001b[0;34m/\u001b[0m\u001b[0;36m7\u001b[0m\u001b[0;34m,\u001b[0m\u001b[0;34m\"week\"\u001b[0m\u001b[0;34m,\u001b[0m\u001b[0;34m(\u001b[0m\u001b[0mdays\u001b[0m\u001b[0;34m-\u001b[0m\u001b[0;34m(\u001b[0m\u001b[0mdays\u001b[0m\u001b[0;34m-\u001b[0m\u001b[0;34m(\u001b[0m\u001b[0mdays\u001b[0m\u001b[0;34m/\u001b[0m\u001b[0;36m365\u001b[0m\u001b[0;34m)\u001b[0m\u001b[0;34m,\u001b[0m\u001b[0;34m\"days\"\u001b[0m\u001b[0;34m)\u001b[0m\u001b[0;34m)\u001b[0m\u001b[0;34m)\u001b[0m\u001b[0;34m)\u001b[0m\u001b[0;34m\u001b[0m\u001b[0;34m\u001b[0m\u001b[0m\n\u001b[0m\u001b[1;32m      3\u001b[0m \u001b[0;34m\u001b[0m\u001b[0m\n\u001b[1;32m      4\u001b[0m \u001b[0;34m\u001b[0m\u001b[0m\n\u001b[1;32m      5\u001b[0m \u001b[0myear_week_days\u001b[0m\u001b[0;34m(\u001b[0m\u001b[0;36m1000\u001b[0m\u001b[0;34m)\u001b[0m\u001b[0;34m\u001b[0m\u001b[0;34m\u001b[0m\u001b[0m\n",
            "\u001b[0;31mTypeError\u001b[0m: unsupported operand type(s) for -: 'int' and 'tuple'"
          ]
        }
      ],
      "source": [
        "def year_week_days(days):\n",
        "  print(days/365,\"year\",(days-(days/365)/7,\"week\",(days-(days-(days/365),\"days\"))))\n",
        "\n",
        "\n",
        "year_week_days(1000)"
      ]
    },
    {
      "cell_type": "markdown",
      "metadata": {
        "id": "IStRz9Lq3bNj"
      },
      "source": [
        "Q.4: Given list of numbers find maximum and minimum values"
      ]
    },
    {
      "cell_type": "code",
      "execution_count": null,
      "metadata": {
        "colab": {
          "base_uri": "https://localhost:8080/"
        },
        "id": "RpYrB2LW3ey-",
        "outputId": "a544c346-0bf8-4b19-b1ce-7c2ae6c5382d"
      },
      "outputs": [
        {
          "name": "stdout",
          "output_type": "stream",
          "text": [
            "87\n",
            "23\n"
          ]
        }
      ],
      "source": [
        "list = [23,45,67,87,45]\n",
        "print(max(list))\n",
        "print(min(list))\n"
      ]
    },
    {
      "cell_type": "markdown",
      "metadata": {
        "id": "3FP7AZU93fe7"
      },
      "source": [
        "Q.5: Create a list of fruits and access element using indexing"
      ]
    },
    {
      "cell_type": "code",
      "execution_count": null,
      "metadata": {
        "colab": {
          "base_uri": "https://localhost:8080/"
        },
        "id": "dazfNBYO3jH-",
        "outputId": "5dee77e6-e157-4dcf-f21b-c2aad06eda76"
      },
      "outputs": [
        {
          "name": "stdout",
          "output_type": "stream",
          "text": [
            "['Apple', 'Mango', 'Banana', 'orange']\n",
            "['Apple', 'Mango', 'Banana', 'orange', 'Guava']\n",
            "Apple\n",
            "orange\n",
            "orange\n",
            "['Guava', 'orange', 'Banana', 'Mango', 'Apple']\n"
          ]
        }
      ],
      "source": [
        "fruits = [\"Apple\",\"Mango\",\"Banana\",\"orange\",\"Guava\"]\n",
        "print(fruits[0:4])\n",
        "print(fruits[:])\n",
        "print(fruits[0])\n",
        "print(fruits[3])\n",
        "print(fruits[-2])\n",
        "print(fruits[-1::-1])\n"
      ]
    },
    {
      "cell_type": "markdown",
      "metadata": {
        "id": "KEY45AUE3k7L"
      },
      "source": [
        "Q.6: Create a function to cound number of vowels in a given string"
      ]
    },
    {
      "cell_type": "code",
      "execution_count": null,
      "metadata": {
        "colab": {
          "base_uri": "https://localhost:8080/"
        },
        "id": "APBPsM1R3pYT",
        "outputId": "985714ac-45e9-45ab-ecc3-7d2c420e501b"
      },
      "outputs": [
        {
          "output_type": "stream",
          "name": "stdout",
          "text": [
            "3\n"
          ]
        }
      ],
      "source": [
        "def vowel_count(name):\n",
        "  vowel = \"aeiouAEIOU\"\n",
        "  vowel_count = 0\n",
        "  for i in name:\n",
        "    if i in vowel:\n",
        "      vowel_count += 1\n",
        "  return vowel_count\n",
        "\n",
        "\n",
        "print(vowel_count(\"Bibek shah\"))"
      ]
    },
    {
      "cell_type": "markdown",
      "metadata": {
        "id": "aJQRjlj33pzi"
      },
      "source": [
        "Q. 7: Given list of names, concatenate them into single string seperated by spaces"
      ]
    },
    {
      "cell_type": "code",
      "execution_count": null,
      "metadata": {
        "colab": {
          "base_uri": "https://localhost:8080/"
        },
        "id": "96hAelCj3tJk",
        "outputId": "cf8c8f06-b6c4-4cae-d3ca-62ac9a413e22"
      },
      "outputs": [
        {
          "output_type": "stream",
          "name": "stdout",
          "text": [
            "Aarmin Eren Mikasa Tanjiro Rengoku\n"
          ]
        }
      ],
      "source": [
        "list = [\"Aarmin\",\"Eren\",\"Mikasa\",\"Tanjiro\",\"Rengoku\"]\n",
        "concatenated_string = \" \".join(list)\n",
        "print(concatenated_string)\n"
      ]
    },
    {
      "cell_type": "markdown",
      "metadata": {
        "id": "Vs-AHhq33tv-"
      },
      "source": [
        "Q. 8: Create a function to reverse a given string"
      ]
    },
    {
      "cell_type": "code",
      "execution_count": null,
      "metadata": {
        "colab": {
          "base_uri": "https://localhost:8080/"
        },
        "id": "77MV5lWf3xn1",
        "outputId": "468d1704-1414-473a-e7e5-3b523f4d3b3e"
      },
      "outputs": [
        {
          "name": "stdout",
          "output_type": "stream",
          "text": [
            "kebiB\n",
            "nohtyP\n"
          ]
        }
      ],
      "source": [
        "def reverse(name):\n",
        "  print(name[::-1])\n",
        "\n",
        "reverse(\"Bibek\")\n",
        "reverse(\"Python\")"
      ]
    },
    {
      "cell_type": "markdown",
      "metadata": {
        "id": "pKD-J6NF3yLn"
      },
      "source": [
        "Q.9: Create a loop that prints first 10 even numbers"
      ]
    },
    {
      "cell_type": "code",
      "execution_count": null,
      "metadata": {
        "colab": {
          "base_uri": "https://localhost:8080/"
        },
        "id": "FdVBxjqW314f",
        "outputId": "22644134-9fa9-42ed-e7c4-7e26f8da3238"
      },
      "outputs": [
        {
          "name": "stdout",
          "output_type": "stream",
          "text": [
            "0\n",
            "2\n",
            "4\n",
            "6\n",
            "8\n",
            "10\n",
            "12\n",
            "14\n",
            "16\n",
            "18\n",
            "20\n"
          ]
        }
      ],
      "source": [
        "i = 0\n",
        "while i in range(21):\n",
        "  print(i)\n",
        "\n",
        "  i = i+2\n"
      ]
    },
    {
      "cell_type": "markdown",
      "metadata": {
        "id": "G96VRzxfceQI"
      },
      "source": [
        "Q.10: Given list of names,print all names starting with letter A"
      ]
    },
    {
      "cell_type": "markdown",
      "metadata": {
        "id": "LaJ9SzzWcdHb"
      },
      "source": []
    },
    {
      "cell_type": "code",
      "execution_count": null,
      "metadata": {
        "colab": {
          "base_uri": "https://localhost:8080/"
        },
        "id": "MSdXfdxx37hw",
        "outputId": "adc2a57e-8686-476c-e843-cdeea3d187c6"
      },
      "outputs": [
        {
          "name": "stdout",
          "output_type": "stream",
          "text": [
            "Aarmin\n",
            "Ayush\n",
            "Abhisekh\n"
          ]
        }
      ],
      "source": [
        "def name_starting_with_a(name_list):\n",
        "    for name in name_list:\n",
        "        if name.startswith(\"A\"):\n",
        "            print(name)\n",
        "\n",
        "\n",
        "name_list1 = [\"Bibek\", \"Doremon\", \"Nobita\", \"Doreme\", \"Aarmin\", \"Ayush\", \"Abhisekh\"]\n",
        "name_starting_with_a(name_list1)"
      ]
    },
    {
      "cell_type": "markdown",
      "metadata": {
        "id": "c5nea-Bf38iX"
      },
      "source": [
        "Q. 11: Implement a program that prints multiplication table of a given number"
      ]
    },
    {
      "cell_type": "code",
      "execution_count": null,
      "metadata": {
        "colab": {
          "base_uri": "https://localhost:8080/"
        },
        "id": "T10_Mtmn4AGE",
        "outputId": "6a4b1a17-d164-482b-f9fc-04ece0b02b58"
      },
      "outputs": [
        {
          "output_type": "stream",
          "name": "stdout",
          "text": [
            "7*0=0\n",
            "7*1=7\n",
            "7*2=14\n",
            "7*3=21\n",
            "7*4=28\n",
            "7*5=35\n",
            "7*6=42\n",
            "7*7=49\n",
            "7*8=56\n",
            "7*9=63\n",
            "7*10=70\n"
          ]
        }
      ],
      "source": [
        "def multiplication_of_a_number(number):\n",
        "  for i in range(11):\n",
        "    print(f\"{number}*{i}={number*i}\")\n",
        "    i = i + 1\n",
        "\n",
        "\n",
        "multiplication_of_a_number(7)"
      ]
    },
    {
      "cell_type": "markdown",
      "metadata": {
        "id": "Zi0639MR4AeQ"
      },
      "source": [
        "Q.12: Given list of words, count the number of words with more than five characters"
      ]
    },
    {
      "cell_type": "code",
      "execution_count": null,
      "metadata": {
        "colab": {
          "base_uri": "https://localhost:8080/"
        },
        "id": "scoGZlAT4Fai",
        "outputId": "0e3f13c1-d161-4ec3-8bdb-0075c321ea52"
      },
      "outputs": [
        {
          "name": "stdout",
          "output_type": "stream",
          "text": [
            "Aarmin 6\n",
            "Mikasa 6\n",
            "Tanjiro 7\n",
            "Rengoku 7\n"
          ]
        }
      ],
      "source": [
        "list=[\"Aarmin\",\"Eren\",\"Mikasa\",\"Tanjiro\",\"Rengoku\",\"bibek\"]\n",
        "for i in list:\n",
        "  if len(i)>5:\n",
        "    print(i,len(i))"
      ]
    },
    {
      "cell_type": "markdown",
      "metadata": {
        "id": "3RPHEsZ84F0-"
      },
      "source": [
        "Q.13: write a function to calculate area of circle given its radius"
      ]
    },
    {
      "cell_type": "code",
      "source": [],
      "metadata": {
        "id": "HyA8x2OrVcWX"
      },
      "execution_count": null,
      "outputs": []
    },
    {
      "cell_type": "markdown",
      "metadata": {
        "id": "oF08O93VcZfr"
      },
      "source": []
    },
    {
      "cell_type": "code",
      "execution_count": null,
      "metadata": {
        "colab": {
          "base_uri": "https://localhost:8080/"
        },
        "id": "oBYlxTZn4G6U",
        "outputId": "562a6b9d-61c4-487d-9066-8de1a9b86299"
      },
      "outputs": [
        {
          "output_type": "stream",
          "name": "stdout",
          "text": [
            "Enter the radius of a circle(in cm)10\n",
            "The area of circle with radius 10.0 is 314.1592653589793\n"
          ]
        }
      ],
      "source": [
        "from math import pi\n",
        "def area_of_circle(radius):\n",
        "  return pi*radius**2\n",
        "\n",
        "radius = float(input(\"Enter the radius of a circle(in cm)\"))\n",
        "area = area_of_circle(radius)\n",
        "print(f\"The area of circle with radius {radius} is {area}\")\n"
      ]
    },
    {
      "cell_type": "markdown",
      "metadata": {
        "id": "mor-rMMe4Hpv"
      },
      "source": [
        "Q.14 write a function that takes two lists and return their intersection"
      ]
    },
    {
      "cell_type": "code",
      "execution_count": null,
      "metadata": {
        "colab": {
          "base_uri": "https://localhost:8080/"
        },
        "id": "cOjI6T8O4Ksv",
        "outputId": "16b83e04-c907-4785-e6bd-1c7c8c9089c9"
      },
      "outputs": [
        {
          "name": "stdout",
          "output_type": "stream",
          "text": [
            "The intersection between the two list is {3, 4, 5}\n"
          ]
        }
      ],
      "source": [
        "def intersection_of_list(list1,list2):\n",
        "  return set(list1).intersection(set(list2))\n",
        "\n",
        "list1 = [1,2,3,4,5]\n",
        "list2 = [3,4,5,6,7,8]\n",
        "\n",
        "intersection = intersection_of_list(list1,list2)\n",
        "print(f\"The intersection between the two list is {intersection}\")"
      ]
    },
    {
      "cell_type": "markdown",
      "metadata": {
        "id": "o6p49VCT4LUp"
      },
      "source": [
        "Q.15: add a new key value pair to an existing dictionary"
      ]
    },
    {
      "cell_type": "code",
      "execution_count": null,
      "metadata": {
        "colab": {
          "base_uri": "https://localhost:8080/"
        },
        "id": "tlVr8Xvq4OPp",
        "outputId": "4ef2e023-2d7e-44ae-88d5-c82c06cb3df8"
      },
      "outputs": [
        {
          "name": "stdout",
          "output_type": "stream",
          "text": [
            "{'laptop': 'a device', 'guitar': 'an instrument', 'school': 'a place to study'}\n",
            "None\n",
            "{'laptop': 'a device', 'guitar': 'an instrument', 'school': 'a place to study', 'stadium': 'a place for outdoor games'}\n"
          ]
        }
      ],
      "source": [
        "dictionary = {\"laptop\":\"a device\",\n",
        "              \"guitar\":\"an instrument\",\n",
        "              \"school\":\"a place to study\"}\n",
        "print(dictionary)\n",
        "print(dictionary.update({\"stadium\":\"a place for outdoor games\"}))\n",
        "print(dictionary)\n"
      ]
    },
    {
      "cell_type": "markdown",
      "metadata": {
        "id": "CuMEG2xB4O1A"
      },
      "source": []
    },
    {
      "cell_type": "markdown",
      "metadata": {
        "id": "PQXse6-l4O6v"
      },
      "source": [
        "Q.16: implement a program that uses inheritance to represent a hierarchy of shapes (circle, triangle, rectangle etc)"
      ]
    },
    {
      "cell_type": "code",
      "execution_count": null,
      "metadata": {
        "id": "fL6n2O4A4Sf0"
      },
      "outputs": [],
      "source": [
        "from math import pi\n",
        "\n"
      ]
    },
    {
      "cell_type": "code",
      "execution_count": null,
      "metadata": {
        "id": "HEVDP-14zcli"
      },
      "outputs": [],
      "source": []
    }
  ],
  "metadata": {
    "colab": {
      "provenance": []
    },
    "kernelspec": {
      "display_name": "Python 3",
      "name": "python3"
    },
    "language_info": {
      "name": "python"
    }
  },
  "nbformat": 4,
  "nbformat_minor": 0
}