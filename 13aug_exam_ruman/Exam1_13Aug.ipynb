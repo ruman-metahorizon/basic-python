{
  "nbformat": 4,
  "nbformat_minor": 0,
  "metadata": {
    "colab": {
      "provenance": []
    },
    "kernelspec": {
      "name": "python3",
      "display_name": "Python 3"
    },
    "language_info": {
      "name": "python"
    }
  },
  "cells": [
    {
      "cell_type": "markdown",
      "source": [
        "Q.1: Convert temp from celcius to fahrenheit"
      ],
      "metadata": {
        "id": "a3W7Zh7B3Idq"
      }
    },
    {
      "cell_type": "code",
      "execution_count": null,
      "metadata": {
        "id": "RDldub593HsN"
      },
      "outputs": [],
      "source": []
    },
    {
      "cell_type": "markdown",
      "source": [
        "Q.2: Given list of integers and find sum of all positive numbers"
      ],
      "metadata": {
        "id": "FesLt5ny3QMv"
      }
    },
    {
      "cell_type": "code",
      "source": [],
      "metadata": {
        "id": "tBv69aiL3U-S"
      },
      "execution_count": null,
      "outputs": []
    },
    {
      "cell_type": "markdown",
      "source": [
        "Q.3: write program to convert given number of days into years, weeks and days"
      ],
      "metadata": {
        "id": "qI-JUigu3Vvq"
      }
    },
    {
      "cell_type": "code",
      "source": [],
      "metadata": {
        "id": "krx-lnkg3aXf"
      },
      "execution_count": null,
      "outputs": []
    },
    {
      "cell_type": "markdown",
      "source": [
        "Q.4: Given list of numbers find maximum and minimum values"
      ],
      "metadata": {
        "id": "IStRz9Lq3bNj"
      }
    },
    {
      "cell_type": "code",
      "source": [],
      "metadata": {
        "id": "RpYrB2LW3ey-"
      },
      "execution_count": null,
      "outputs": []
    },
    {
      "cell_type": "markdown",
      "source": [
        "Q.5: Create a list of fruits and access element using indexing"
      ],
      "metadata": {
        "id": "3FP7AZU93fe7"
      }
    },
    {
      "cell_type": "code",
      "source": [],
      "metadata": {
        "id": "dazfNBYO3jH-"
      },
      "execution_count": null,
      "outputs": []
    },
    {
      "cell_type": "markdown",
      "source": [
        "Q.6: Create a function to cound number of vowels in a given string"
      ],
      "metadata": {
        "id": "KEY45AUE3k7L"
      }
    },
    {
      "cell_type": "code",
      "source": [],
      "metadata": {
        "id": "APBPsM1R3pYT"
      },
      "execution_count": null,
      "outputs": []
    },
    {
      "cell_type": "markdown",
      "source": [
        "Q. 7: Given list of names, concatenate them into single string seperated by spaces"
      ],
      "metadata": {
        "id": "aJQRjlj33pzi"
      }
    },
    {
      "cell_type": "code",
      "source": [],
      "metadata": {
        "id": "96hAelCj3tJk"
      },
      "execution_count": null,
      "outputs": []
    },
    {
      "cell_type": "markdown",
      "source": [
        "Q. 8: Create a function to reverse a given string"
      ],
      "metadata": {
        "id": "Vs-AHhq33tv-"
      }
    },
    {
      "cell_type": "code",
      "source": [],
      "metadata": {
        "id": "77MV5lWf3xn1"
      },
      "execution_count": null,
      "outputs": []
    },
    {
      "cell_type": "markdown",
      "source": [
        "Q.9: Create a loop that prints first 10 even numbers"
      ],
      "metadata": {
        "id": "pKD-J6NF3yLn"
      }
    },
    {
      "cell_type": "code",
      "source": [],
      "metadata": {
        "id": "FdVBxjqW314f"
      },
      "execution_count": null,
      "outputs": []
    },
    {
      "cell_type": "markdown",
      "source": [
        "Q.10: Given list of names, print all names starting with letter A"
      ],
      "metadata": {
        "id": "3uMj2v4m32Zq"
      }
    },
    {
      "cell_type": "code",
      "source": [],
      "metadata": {
        "id": "MSdXfdxx37hw"
      },
      "execution_count": null,
      "outputs": []
    },
    {
      "cell_type": "markdown",
      "source": [
        "Q. 11: Implement a program that prints multiplication table of a given number"
      ],
      "metadata": {
        "id": "c5nea-Bf38iX"
      }
    },
    {
      "cell_type": "code",
      "source": [],
      "metadata": {
        "id": "T10_Mtmn4AGE"
      },
      "execution_count": null,
      "outputs": []
    },
    {
      "cell_type": "markdown",
      "source": [
        "Q.12: Given list of words, count the number of words with more than five characters"
      ],
      "metadata": {
        "id": "Zi0639MR4AeQ"
      }
    },
    {
      "cell_type": "code",
      "source": [],
      "metadata": {
        "id": "scoGZlAT4Fai"
      },
      "execution_count": null,
      "outputs": []
    },
    {
      "cell_type": "markdown",
      "source": [
        "Q.13: write a function to calculate area of circle given its radius"
      ],
      "metadata": {
        "id": "3RPHEsZ84F0-"
      }
    },
    {
      "cell_type": "code",
      "source": [],
      "metadata": {
        "id": "oBYlxTZn4G6U"
      },
      "execution_count": null,
      "outputs": []
    },
    {
      "cell_type": "markdown",
      "source": [
        "Q.14 write a function that takes two lists and return their intersection"
      ],
      "metadata": {
        "id": "mor-rMMe4Hpv"
      }
    },
    {
      "cell_type": "code",
      "source": [],
      "metadata": {
        "id": "cOjI6T8O4Ksv"
      },
      "execution_count": null,
      "outputs": []
    },
    {
      "cell_type": "markdown",
      "source": [
        "Q.15: add a new key value pair to an existing dictionary"
      ],
      "metadata": {
        "id": "o6p49VCT4LUp"
      }
    },
    {
      "cell_type": "code",
      "source": [],
      "metadata": {
        "id": "tlVr8Xvq4OPp"
      },
      "execution_count": null,
      "outputs": []
    },
    {
      "cell_type": "markdown",
      "source": [],
      "metadata": {
        "id": "CuMEG2xB4O1A"
      }
    },
    {
      "cell_type": "markdown",
      "source": [
        "Q.16: implement a program that uses inheritance to represent a hierarchy of shapes (circle, triangle, rectangle etc)"
      ],
      "metadata": {
        "id": "PQXse6-l4O6v"
      }
    },
    {
      "cell_type": "code",
      "source": [],
      "metadata": {
        "id": "fL6n2O4A4Sf0"
      },
      "execution_count": null,
      "outputs": []
    }
  ]
}