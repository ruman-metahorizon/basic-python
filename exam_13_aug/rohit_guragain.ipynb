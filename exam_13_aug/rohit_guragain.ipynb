{
  "nbformat": 4,
  "nbformat_minor": 0,
  "metadata": {
    "colab": {
      "provenance": []
    },
    "kernelspec": {
      "name": "python3",
      "display_name": "Python 3"
    },
    "language_info": {
      "name": "python"
    }
  },
  "cells": [
    {
      "cell_type": "markdown",
      "source": [
        "\n",
        "Q.1: Convert temp from celcius to fahrenheit"
      ],
      "metadata": {
        "id": "a3W7Zh7B3Idq"
      }
    },
    {
      "cell_type": "code",
      "execution_count": 3,
      "metadata": {
        "id": "RDldub593HsN",
        "colab": {
          "base_uri": "https://localhost:8080/"
        },
        "outputId": "2a33f0ee-440a-4c8c-dc9e-d5bc01985baf"
      },
      "outputs": [
        {
          "output_type": "execute_result",
          "data": {
            "text/plain": [
              "78.8"
            ]
          },
          "metadata": {},
          "execution_count": 3
        }
      ],
      "source": [
        "def to_farenheight(celcius):\n",
        "  farenheit = celcius*9/5 +32\n",
        "  return(farenheit)\n",
        "to_farenheight(26)"
      ]
    },
    {
      "cell_type": "markdown",
      "source": [
        "Q.2: Given list of integers and find sum of all positive numbers"
      ],
      "metadata": {
        "id": "FesLt5ny3QMv"
      }
    },
    {
      "cell_type": "code",
      "source": [
        "def sum(x,y):\n",
        "  list_of_integers = []\n",
        "  for a in range(x,y):\n",
        "    list_of_integers.append(a)\n",
        "  sum = 0\n",
        "  for item in list_of_integers:\n",
        "    if item > 0:\n",
        "      sum += item\n",
        "  return sum\n",
        "sum(-20,20)"
      ],
      "metadata": {
        "id": "tBv69aiL3U-S",
        "colab": {
          "base_uri": "https://localhost:8080/"
        },
        "outputId": "c72ec954-e524-47a1-e68f-96aeea38f549"
      },
      "execution_count": 21,
      "outputs": [
        {
          "output_type": "execute_result",
          "data": {
            "text/plain": [
              "190"
            ]
          },
          "metadata": {},
          "execution_count": 21
        }
      ]
    },
    {
      "cell_type": "markdown",
      "source": [
        "Q.3: write program to convert given number of days into years, weeks and days"
      ],
      "metadata": {
        "id": "qI-JUigu3Vvq"
      }
    },
    {
      "cell_type": "code",
      "source": [
        "def convert_days(days):\n",
        "  year = int(days//365)\n",
        "  weeks =int((days%365)/7)\n",
        "  days = int((days%365)%7)\n",
        "  return (f\"years={year} weeks={weeks}  days={days}\")\n",
        "\n",
        "convert_days(1000)"
      ],
      "metadata": {
        "id": "krx-lnkg3aXf",
        "colab": {
          "base_uri": "https://localhost:8080/",
          "height": 35
        },
        "outputId": "4642627e-745f-4d1e-e530-d60fbe51424d"
      },
      "execution_count": 30,
      "outputs": [
        {
          "output_type": "execute_result",
          "data": {
            "text/plain": [
              "'years=2 weeks=38  days=4'"
            ],
            "application/vnd.google.colaboratory.intrinsic+json": {
              "type": "string"
            }
          },
          "metadata": {},
          "execution_count": 30
        }
      ]
    },
    {
      "cell_type": "markdown",
      "source": [
        "Q.4: Given list of numbers find maximum and minimum values"
      ],
      "metadata": {
        "id": "IStRz9Lq3bNj"
      }
    },
    {
      "cell_type": "code",
      "source": [
        "import random\n",
        "def minmax(numbers):\n",
        "  list_of_numbers = []\n",
        "  for a in range(numbers):\n",
        "    random_number = random.randint(1,1000)\n",
        "    list_of_numbers.append(random_number)\n",
        "\n",
        "  print(f\"MAXIMUM among {numbers} numbers is :{max(list_of_numbers)}\")\n",
        "  print(f\"MINIMUM among {numbers} numbers is :{min(list_of_numbers)}\")\n",
        "\n",
        "minmax(10)"
      ],
      "metadata": {
        "id": "RpYrB2LW3ey-",
        "colab": {
          "base_uri": "https://localhost:8080/"
        },
        "outputId": "1cc9e38f-439f-4a38-fc03-c6e3631ae86b"
      },
      "execution_count": 44,
      "outputs": [
        {
          "output_type": "stream",
          "name": "stdout",
          "text": [
            "MAXIMUM among 10 numbers is :727\n",
            "MINIMUM among 10 numbers is :138\n"
          ]
        }
      ]
    },
    {
      "cell_type": "markdown",
      "source": [
        "Q.5: Create a list of fruits and access element using indexing"
      ],
      "metadata": {
        "id": "3FP7AZU93fe7"
      }
    },
    {
      "cell_type": "code",
      "source": [
        "def select_fruit(index):\n",
        "  list_of_fruits = [\"apple\", \"mango\", \"guava\", \"litchi\", \"pineapple\", \"banana\", \"kiwi\", \"dragonfruit\"]\n",
        "  if index > len(list_of_fruits):\n",
        "    print(\"out of range\")\n",
        "  else:\n",
        "    print(f\"AT this list index of value {index} is {list_of_fruits[index]}.\")\n",
        "select_fruit(6)"
      ],
      "metadata": {
        "id": "dazfNBYO3jH-",
        "colab": {
          "base_uri": "https://localhost:8080/"
        },
        "outputId": "fc5fdc56-3f7b-49fc-9b5b-0b3862081218"
      },
      "execution_count": 46,
      "outputs": [
        {
          "output_type": "stream",
          "name": "stdout",
          "text": [
            "AT this list index of value 6 is kiwi.\n"
          ]
        }
      ]
    },
    {
      "cell_type": "markdown",
      "source": [
        "Q.6: Create a function to cound number of vowels in a given string"
      ],
      "metadata": {
        "id": "KEY45AUE3k7L"
      }
    },
    {
      "cell_type": "code",
      "source": [
        "def count_vowels():\n",
        "  list = [\"a\", \"e\", \"i\", \"o\", \"u\"]\n",
        "  choice = input(\"enter the string \\n\")\n",
        "  num = 0\n",
        "  for string in choice:\n",
        "\n",
        "    if string in list:\n",
        "      string_list = []\n",
        "      string_list.append(string)\n",
        "      num += 1\n",
        "  print(f\"there are total {num} vowels in the string .i.e ={string_list}\")\n",
        "\n",
        "count_vowels()"
      ],
      "metadata": {
        "id": "APBPsM1R3pYT",
        "colab": {
          "base_uri": "https://localhost:8080/"
        },
        "outputId": "64d1b36b-01de-4f42-b7b3-e210fd57df07"
      },
      "execution_count": 60,
      "outputs": [
        {
          "output_type": "stream",
          "name": "stdout",
          "text": [
            "enter the string \n",
            "happydent\n",
            "there are total 2 vowels in the string .i.e =['e']\n"
          ]
        }
      ]
    },
    {
      "cell_type": "markdown",
      "source": [
        "Q. 7: Given list of names, concatenate them into single string seperated by spaces"
      ],
      "metadata": {
        "id": "aJQRjlj33pzi"
      }
    },
    {
      "cell_type": "code",
      "source": [
        "\n",
        "list_of_names =[\"ram\", \"shhyam\", \"hari\", \"sita\", \"gita\", \"rita\", \"siaram\"]\n",
        "concatenated_name = \" \".join(list_of_names)\n",
        "print(concatenated_name)"
      ],
      "metadata": {
        "id": "96hAelCj3tJk",
        "colab": {
          "base_uri": "https://localhost:8080/"
        },
        "outputId": "d0b5f25c-08cb-4e95-b0b3-0f1e04806142"
      },
      "execution_count": 66,
      "outputs": [
        {
          "output_type": "stream",
          "name": "stdout",
          "text": [
            "ram shhyam hari sita gita rita siaram\n"
          ]
        }
      ]
    },
    {
      "cell_type": "markdown",
      "source": [
        "Q. 8: Create a function to reverse a given string"
      ],
      "metadata": {
        "id": "Vs-AHhq33tv-"
      }
    },
    {
      "cell_type": "code",
      "source": [
        "def reverse_string():\n",
        "  to_reverse = input(\"what do you want to reverse bro?\")\n",
        "  reversed_text = to_reverse[::-1]\n",
        "  print(f\"The reversed text is {reversed_text}.\")\n",
        "\n",
        "reverse_string()\n",
        ""
      ],
      "metadata": {
        "id": "77MV5lWf3xn1",
        "colab": {
          "base_uri": "https://localhost:8080/"
        },
        "outputId": "a4a10c29-7513-4cfa-f27b-c269846abacc"
      },
      "execution_count": 72,
      "outputs": [
        {
          "output_type": "stream",
          "name": "stdout",
          "text": [
            "what do you want to reverse bro?happydent\n",
            "The reversed text is tnedyppah.\n"
          ]
        }
      ]
    },
    {
      "cell_type": "markdown",
      "source": [
        "Q.9: Create a loop that prints first 10 even numbers"
      ],
      "metadata": {
        "id": "pKD-J6NF3yLn"
      }
    },
    {
      "cell_type": "code",
      "source": [
        "random_numbers = []\n",
        "for num in range(100):\n",
        "  if num % 2 ==0 and len(random_numbers)<10:\n",
        "    random_numbers.append(num)\n",
        "print(random_numbers)"
      ],
      "metadata": {
        "id": "FdVBxjqW314f",
        "colab": {
          "base_uri": "https://localhost:8080/"
        },
        "outputId": "18cd23ce-9344-4a41-9216-a287845f9656"
      },
      "execution_count": 79,
      "outputs": [
        {
          "output_type": "stream",
          "name": "stdout",
          "text": [
            "[0, 2, 4, 6, 8, 10, 12, 14, 16, 18]\n"
          ]
        }
      ]
    },
    {
      "cell_type": "markdown",
      "source": [
        "Q.10: Given list of names, print all names starting with letter A"
      ],
      "metadata": {
        "id": "3uMj2v4m32Zq"
      }
    },
    {
      "cell_type": "code",
      "source": [
        "list_of_names =[\"ram\", \"shhyam\", \"arik\", \"sita\", \"gita\", \"rita\", \"siaram\", \"akash\", \"ananda\", \"ashley\"]\n",
        "for item in list_of_names:\n",
        "  if item[0].lower() == \"a\":\n",
        "    print(item)"
      ],
      "metadata": {
        "id": "MSdXfdxx37hw"
      },
      "execution_count": null,
      "outputs": []
    },
    {
      "cell_type": "markdown",
      "source": [
        "Q. 11: Implement a program that prints multiplication table of a given number"
      ],
      "metadata": {
        "id": "c5nea-Bf38iX"
      }
    },
    {
      "cell_type": "code",
      "source": [
        "def multiplication_table(of, to):\n",
        "  for a in range(1, to+1):\n",
        "    print(f\"{of} * {a} = {of * a }\")\n",
        "multiplication_table(5,20)"
      ],
      "metadata": {
        "id": "T10_Mtmn4AGE"
      },
      "execution_count": null,
      "outputs": []
    },
    {
      "cell_type": "markdown",
      "source": [
        "Q.12: Given list of words, count the number of words with more than five characters"
      ],
      "metadata": {
        "id": "Zi0639MR4AeQ"
      }
    },
    {
      "cell_type": "code",
      "source": [
        "list_of_names =[\"shhyam\", \"hari\", \"sita\", \"gita\", \"rita\", \"siaram\", \"undertaker\", \"hurricane\", \"hulk\", \"stonecold\"]\n",
        "for item in list_of_names:\n",
        "  if len(item) > 5:\n",
        "    print(f\"{item}: {len(item)}\")\n",
        "\n"
      ],
      "metadata": {
        "id": "scoGZlAT4Fai",
        "colab": {
          "base_uri": "https://localhost:8080/"
        },
        "outputId": "da1acc8a-4a0f-4653-a726-42273b93ac72"
      },
      "execution_count": 89,
      "outputs": [
        {
          "output_type": "stream",
          "name": "stdout",
          "text": [
            "shhyam: 6\n",
            "siaram: 6\n",
            "undertaker: 10\n",
            "hurricane: 9\n",
            "stonecold: 9\n"
          ]
        }
      ]
    },
    {
      "cell_type": "markdown",
      "source": [
        "Q.13: write a function to calculate area of circle given its radius"
      ],
      "metadata": {
        "id": "3RPHEsZ84F0-"
      }
    },
    {
      "cell_type": "code",
      "source": [
        "from math import pi\n",
        "def calculate_area_of_circle(radius):\n",
        " return round(float(pi * radius**2),2)\n",
        "calculate_area_of_circle(5)"
      ],
      "metadata": {
        "id": "oBYlxTZn4G6U",
        "colab": {
          "base_uri": "https://localhost:8080/"
        },
        "outputId": "4bb31247-ad63-4ccc-a08f-8aef437fc990"
      },
      "execution_count": 95,
      "outputs": [
        {
          "output_type": "execute_result",
          "data": {
            "text/plain": [
              "78.54"
            ]
          },
          "metadata": {},
          "execution_count": 95
        }
      ]
    },
    {
      "cell_type": "markdown",
      "source": [
        "Q.14 write a function that takes two lists and return their intersection"
      ],
      "metadata": {
        "id": "mor-rMMe4Hpv"
      }
    },
    {
      "cell_type": "code",
      "source": [
        "list1 = [1,2,3,4,5,6,7]\n",
        "list2 = [2,5,9,7,6]\n",
        "x=set(list1)\n",
        "y=set(list2)\n",
        "z = x.intersection(y)\n",
        "print(z)\n"
      ],
      "metadata": {
        "id": "cOjI6T8O4Ksv",
        "colab": {
          "base_uri": "https://localhost:8080/"
        },
        "outputId": "abcfdcda-3008-46f3-ab28-9f04420118f8"
      },
      "execution_count": 97,
      "outputs": [
        {
          "output_type": "stream",
          "name": "stdout",
          "text": [
            "{2, 5, 6, 7}\n"
          ]
        }
      ]
    },
    {
      "cell_type": "markdown",
      "source": [
        "Q.15: add a new key value pair to an existing dictionary"
      ],
      "metadata": {
        "id": "o6p49VCT4LUp"
      }
    },
    {
      "cell_type": "code",
      "source": [
        "dict ={\n",
        "    \"id\": 1,\n",
        "    \"name\":\"rohit\",\n",
        "    \"address\":\"baneshwor\",\n",
        "}\n",
        "dict[\"phone\"] = 9841396283\n",
        "print(dict)\n"
      ],
      "metadata": {
        "id": "tlVr8Xvq4OPp",
        "colab": {
          "base_uri": "https://localhost:8080/"
        },
        "outputId": "63bf0eac-d0cc-4f6b-9f9b-fc75e3fe733a"
      },
      "execution_count": 104,
      "outputs": [
        {
          "output_type": "stream",
          "name": "stdout",
          "text": [
            "{'id': 1, 'name': 'rohit', 'address': 'baneshwor', 'phone': 9841396283}\n"
          ]
        }
      ]
    },
    {
      "cell_type": "markdown",
      "source": [],
      "metadata": {
        "id": "CuMEG2xB4O1A"
      }
    },
    {
      "cell_type": "markdown",
      "source": [
        "Q.16: implement a program that uses inheritance to represent a hierarchy of shapes (circle, triangle, rectangle etc)"
      ],
      "metadata": {
        "id": "PQXse6-l4O6v"
      }
    },
    {
      "cell_type": "code",
      "source": [
        "from math import pi\n",
        "class Shapes:\n",
        "  def area(self):\n",
        "    pass\n",
        "class Circle(Shapes):\n",
        "  def __init__(self, radius):\n",
        "    self.radius = radius\n",
        "  def area(self):\n",
        "    return pi*self.radius**2\n",
        "class Triangle(Shapes):\n",
        "  def __init__(self,base,height):\n",
        "    self.base = base\n",
        "    self.height = height\n",
        "  def area(self):\n",
        "    return 0.5 * self.base*self.height\n",
        "class Rectangle(Shapes):\n",
        "  def __init__(self,length,breadth):\n",
        "    self.length = length\n",
        "    self.breadth = breadth\n",
        "  def area(self):\n",
        "    return self.length* self.breadth\n",
        "circle = Circle(5)\n",
        "rectangle = Rectangle(7,8)\n",
        "triangle = Triangle(8,6)\n",
        "\n",
        "shapes_list = [circle, rectangle, triangle]\n",
        "for item in shapes_list:\n",
        "  print(f\"Area of {item.__class__.__name__}={item.area()}\")\n",
        "\n",
        "\n",
        "\n",
        ""
      ],
      "metadata": {
        "id": "fL6n2O4A4Sf0",
        "colab": {
          "base_uri": "https://localhost:8080/"
        },
        "outputId": "a0287b52-20e4-42da-ec4c-afdec287234e"
      },
      "execution_count": 106,
      "outputs": [
        {
          "output_type": "stream",
          "name": "stdout",
          "text": [
            "Area of Circle=78.53981633974483\n",
            "Area of Rectangle=56\n",
            "Area of Triangle=24.0\n"
          ]
        }
      ]
    }
  ]
}