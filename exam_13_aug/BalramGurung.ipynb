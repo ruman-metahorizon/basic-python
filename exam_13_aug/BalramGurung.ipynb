{
  "cells": [
    {
      "cell_type": "markdown",
      "metadata": {
        "id": "a3W7Zh7B3Idq"
      },
      "source": [
        "Q.1: Convert temp from celcius to fahrenheit"
      ]
    },
    {
      "cell_type": "code",
      "execution_count": 1,
      "metadata": {
        "colab": {
          "base_uri": "https://localhost:8080/"
        },
        "id": "RDldub593HsN",
        "outputId": "546324a6-b75c-4927-e0bb-0432242e2149"
      },
      "outputs": [
        {
          "name": "stdout",
          "output_type": "stream",
          "text": [
            "212.0\n"
          ]
        }
      ],
      "source": [
        "def celcius_to_fahrenheight(x):\n",
        "    temp_in_F = (x*9/5) + 32\n",
        "    print(temp_in_F)\n",
        "\n",
        "celcius_to_fahrenheight(100)"
      ]
    },
    {
      "cell_type": "markdown",
      "metadata": {
        "id": "FesLt5ny3QMv"
      },
      "source": [
        "Q.2: Given list of integers and find sum of all positive numbers"
      ]
    },
    {
      "cell_type": "code",
      "execution_count": 2,
      "metadata": {
        "colab": {
          "base_uri": "https://localhost:8080/"
        },
        "id": "tBv69aiL3U-S",
        "outputId": "9c252bbf-96ba-4f20-cfea-f6506eb7dbd2"
      },
      "outputs": [
        {
          "name": "stdout",
          "output_type": "stream",
          "text": [
            "10\n"
          ]
        }
      ],
      "source": [
        "list1 = [1, 3, 4, 5, 6, 9]\n",
        "sum = 0\n",
        "for x in list1:\n",
        "  if x%2 ==0:\n",
        "    sum += x\n",
        "\n",
        "print(sum)"
      ]
    },
    {
      "cell_type": "markdown",
      "metadata": {
        "id": "qI-JUigu3Vvq"
      },
      "source": [
        "Q.3: write program to convert given number of days into years, weeks and days"
      ]
    },
    {
      "cell_type": "code",
      "execution_count": 47,
      "metadata": {
        "colab": {
          "base_uri": "https://localhost:8080/"
        },
        "id": "krx-lnkg3aXf",
        "outputId": "6fe00ee5-126f-475d-ddb3-e09bd08b19b4"
      },
      "outputs": [
        {
          "name": "stdout",
          "output_type": "stream",
          "text": [
            "2\n",
            "38\n",
            "4\n"
          ]
        }
      ],
      "source": [
        "no_of_days = 1000\n",
        "no_of_years = int(no_of_days/365)\n",
        "no_of_weeks =int((no_of_days%365)/7)\n",
        "no_of_days = int((no_of_days%365)%7)\n",
        "print(no_of_years)\n",
        "print(no_of_weeks)\n",
        "print(no_of_days)"
      ]
    },
    {
      "cell_type": "markdown",
      "metadata": {
        "id": "IStRz9Lq3bNj"
      },
      "source": [
        "Q.4: Given list of numbers find maximum and minimum values"
      ]
    },
    {
      "cell_type": "code",
      "execution_count": 3,
      "metadata": {
        "colab": {
          "base_uri": "https://localhost:8080/"
        },
        "id": "RpYrB2LW3ey-",
        "outputId": "53a619db-e3b4-4e9b-f20e-36114a4f8893"
      },
      "outputs": [
        {
          "name": "stdout",
          "output_type": "stream",
          "text": [
            "7\n"
          ]
        }
      ],
      "source": [
        "x = [2, 3, 4, 5, 6, 7]\n",
        "print(max(x))\n",
        "print(min(x))"
      ]
    },
    {
      "cell_type": "markdown",
      "metadata": {
        "id": "3FP7AZU93fe7"
      },
      "source": [
        "Q.5: Create a list of fruits and access element using indexing"
      ]
    },
    {
      "cell_type": "code",
      "execution_count": 4,
      "metadata": {
        "colab": {
          "base_uri": "https://localhost:8080/"
        },
        "id": "dazfNBYO3jH-",
        "outputId": "c011f54e-2fbf-44a2-9eae-b3551d72a3b1"
      },
      "outputs": [
        {
          "name": "stdout",
          "output_type": "stream",
          "text": [
            "banana\n"
          ]
        }
      ],
      "source": [
        "fruits = ['apple', 'banana', 'mango']\n",
        "# to access banana or 2nd element\n",
        "print(fruits[1])"
      ]
    },
    {
      "cell_type": "markdown",
      "metadata": {
        "id": "KEY45AUE3k7L"
      },
      "source": [
        "Q.6: Create a function to cound number of vowels in a given string"
      ]
    },
    {
      "cell_type": "code",
      "execution_count": 5,
      "metadata": {
        "colab": {
          "base_uri": "https://localhost:8080/"
        },
        "id": "APBPsM1R3pYT",
        "outputId": "4d63d05f-301e-4fa7-941e-ef0f8d93a7b0"
      },
      "outputs": [
        {
          "name": "stdout",
          "output_type": "stream",
          "text": [
            "7\n"
          ]
        }
      ],
      "source": [
        "vowels = ['a', 'e', 'i', 'o', 'u']\n",
        "str1 = \"Hello, how are you ?\"\n",
        "count = 0\n",
        "for x in str1:\n",
        "  if x.lower() in vowels:\n",
        "    count +=1\n",
        "\n",
        "print(count)"
      ]
    },
    {
      "cell_type": "markdown",
      "metadata": {
        "id": "aJQRjlj33pzi"
      },
      "source": [
        "Q. 7: Given list of names, concatenate them into single string seperated by spaces"
      ]
    },
    {
      "cell_type": "code",
      "execution_count": 8,
      "metadata": {
        "colab": {
          "base_uri": "https://localhost:8080/"
        },
        "id": "96hAelCj3tJk",
        "outputId": "af186028-f59b-4170-9425-c1092d22144b"
      },
      "outputs": [
        {
          "name": "stdout",
          "output_type": "stream",
          "text": [
            "ram sam harry \n"
          ]
        }
      ],
      "source": [
        "names = ['ram', 'sam', 'harry']\n",
        "name_list =''\n",
        "for x in names:\n",
        "  name_list += x+' '\n",
        "print(name_list)"
      ]
    },
    {
      "cell_type": "markdown",
      "metadata": {
        "id": "Vs-AHhq33tv-"
      },
      "source": [
        "Q. 8: Create a function to reverse a given string"
      ]
    },
    {
      "cell_type": "code",
      "execution_count": 11,
      "metadata": {
        "colab": {
          "base_uri": "https://localhost:8080/"
        },
        "id": "77MV5lWf3xn1",
        "outputId": "c5bddcb5-f56b-4428-a023-e5985d6b611e"
      },
      "outputs": [
        {
          "name": "stdout",
          "output_type": "stream",
          "text": [
            "udnamhtak\n"
          ]
        }
      ],
      "source": [
        "str1 = 'kathmandu'\n",
        "reverse = str1[::-1]\n",
        "print(reverse)"
      ]
    },
    {
      "cell_type": "markdown",
      "metadata": {
        "id": "hE-NCFD8Zvr8"
      },
      "source": []
    },
    {
      "cell_type": "markdown",
      "metadata": {
        "id": "pKD-J6NF3yLn"
      },
      "source": [
        "Q.9: Create a loop that prints first 10 even numbers"
      ]
    },
    {
      "cell_type": "code",
      "execution_count": 52,
      "metadata": {
        "colab": {
          "base_uri": "https://localhost:8080/"
        },
        "id": "FdVBxjqW314f",
        "outputId": "9ac42e91-6b0d-4cce-b7ca-3783112622f4"
      },
      "outputs": [
        {
          "name": "stdout",
          "output_type": "stream",
          "text": [
            "0\n",
            "2\n",
            "4\n",
            "6\n",
            "8\n",
            "10\n",
            "12\n",
            "14\n",
            "16\n",
            "18\n",
            "20\n"
          ]
        }
      ],
      "source": [
        "count = 0\n",
        "for x in range(50):\n",
        "  if count <11:\n",
        "    if x%2 == 0:\n",
        "      print(x)\n",
        "      count +=1\n",
        "    else:\n",
        "      continue\n",
        "  else:\n",
        "    break\n",
        "\n"
      ]
    },
    {
      "cell_type": "markdown",
      "metadata": {
        "id": "3uMj2v4m32Zq"
      },
      "source": [
        "Q.10: Given list of names, print all names starting with letter A"
      ]
    },
    {
      "cell_type": "code",
      "execution_count": 56,
      "metadata": {
        "colab": {
          "base_uri": "https://localhost:8080/"
        },
        "id": "MSdXfdxx37hw",
        "outputId": "ab64d124-c08d-471d-d07b-967bad384cf9"
      },
      "outputs": [
        {
          "name": "stdout",
          "output_type": "stream",
          "text": [
            "['Amber']\n",
            "[]\n",
            "['Anita']\n",
            "[]\n"
          ]
        }
      ],
      "source": [
        "import re\n",
        "names = ['Amber', 'Harry', 'Anita', 'John']\n",
        "for name in names:\n",
        "  x = (re.findall(\"^A.*\", name))\n",
        "  print(x)"
      ]
    },
    {
      "cell_type": "markdown",
      "metadata": {
        "id": "c5nea-Bf38iX"
      },
      "source": [
        "Q. 11: Implement a program that prints multiplication table of a given number"
      ]
    },
    {
      "cell_type": "code",
      "execution_count": 28,
      "metadata": {
        "colab": {
          "base_uri": "https://localhost:8080/"
        },
        "id": "T10_Mtmn4AGE",
        "outputId": "7998b584-cc26-4001-e214-61b385af6bc3"
      },
      "outputs": [
        {
          "name": "stdout",
          "output_type": "stream",
          "text": [
            "5 x 1 = 5\n",
            "5 x 2 = 10\n",
            "5 x 3 = 15\n",
            "5 x 4 = 20\n",
            "5 x 5 = 25\n",
            "5 x 6 = 30\n",
            "5 x 7 = 35\n",
            "5 x 8 = 40\n",
            "5 x 9 = 45\n",
            "5 x 10 = 50\n"
          ]
        }
      ],
      "source": [
        "def multi(x):\n",
        "  for y in range(10):\n",
        "    print(r\"{} x {} = {}\".format(x, y+1, x*(y+1)))\n",
        "\n",
        "multi(5)"
      ]
    },
    {
      "cell_type": "markdown",
      "metadata": {
        "id": "Zi0639MR4AeQ"
      },
      "source": [
        "Q.12: Given list of words, count the number of words with more than five characters"
      ]
    },
    {
      "cell_type": "code",
      "execution_count": 29,
      "metadata": {
        "colab": {
          "base_uri": "https://localhost:8080/"
        },
        "id": "scoGZlAT4Fai",
        "outputId": "848a495d-28ef-470b-d1f1-d0ea61fe615f"
      },
      "outputs": [
        {
          "name": "stdout",
          "output_type": "stream",
          "text": [
            "3\n"
          ]
        }
      ],
      "source": [
        "list1 = ['ram', 'samuel','kathmandu', 'program']\n",
        "count = 0\n",
        "for word in list1:\n",
        "  if len(word)>5:\n",
        "    count +=1\n",
        "  else:\n",
        "    continue\n",
        "print(count)\n"
      ]
    },
    {
      "cell_type": "markdown",
      "metadata": {
        "id": "3RPHEsZ84F0-"
      },
      "source": [
        "Q.13: write a function to calculate area of circle given its radius"
      ]
    },
    {
      "cell_type": "code",
      "execution_count": 33,
      "metadata": {
        "colab": {
          "base_uri": "https://localhost:8080/"
        },
        "id": "oBYlxTZn4G6U",
        "outputId": "2a4ddafd-4aa3-4b0b-dd00-69def5e9b760"
      },
      "outputs": [
        {
          "name": "stdout",
          "output_type": "stream",
          "text": [
            "31.41592653589793\n"
          ]
        }
      ],
      "source": [
        "import math\n",
        "def area(x):\n",
        "  print(2*math.pi*x)\n",
        "\n",
        "area(5)"
      ]
    },
    {
      "cell_type": "markdown",
      "metadata": {
        "id": "mor-rMMe4Hpv"
      },
      "source": [
        "Q.14 write a function that takes two lists and return their intersection"
      ]
    },
    {
      "cell_type": "code",
      "execution_count": 34,
      "metadata": {
        "colab": {
          "base_uri": "https://localhost:8080/"
        },
        "id": "cOjI6T8O4Ksv",
        "outputId": "5ba4c3bd-a184-4ba2-b9d9-db444fa39c8a"
      },
      "outputs": [
        {
          "name": "stdout",
          "output_type": "stream",
          "text": [
            "{4, 5}\n"
          ]
        }
      ],
      "source": [
        "def intersection(x, y):\n",
        "  set_x = set(x)\n",
        "  set_y = set(y)\n",
        "  print(set_x.intersection(set_y))\n",
        "\n",
        "intersection([1, 2, 3, 4, 5], [4, 5, 6, 7, 8])"
      ]
    },
    {
      "cell_type": "markdown",
      "metadata": {
        "id": "5LqHrFioeg04"
      },
      "source": []
    },
    {
      "cell_type": "markdown",
      "metadata": {
        "id": "o6p49VCT4LUp"
      },
      "source": [
        "Q.15: add a new key value pair to an existing dictionary"
      ]
    },
    {
      "cell_type": "code",
      "execution_count": 35,
      "metadata": {
        "colab": {
          "base_uri": "https://localhost:8080/"
        },
        "id": "tlVr8Xvq4OPp",
        "outputId": "d5b1891c-f579-4052-bc70-2d451b6b1f86"
      },
      "outputs": [
        {
          "name": "stdout",
          "output_type": "stream",
          "text": [
            "{'name': 'ram', 'add': 'ktm', 'phone': '232423'}\n"
          ]
        }
      ],
      "source": [
        "dict1 = {'name':'ram', 'add':'ktm'}\n",
        "dict1['phone'] = '232423'\n",
        "print(dict1)"
      ]
    },
    {
      "cell_type": "markdown",
      "metadata": {
        "id": "CuMEG2xB4O1A"
      },
      "source": []
    },
    {
      "cell_type": "markdown",
      "metadata": {
        "id": "PQXse6-l4O6v"
      },
      "source": [
        "Q.16: implement a program that uses inheritance to represent a hierarchy of shapes (circle, triangle, rectangle etc)"
      ]
    },
    {
      "cell_type": "code",
      "execution_count": 57,
      "metadata": {
        "colab": {
          "base_uri": "https://localhost:8080/"
        },
        "id": "fL6n2O4A4Sf0",
        "outputId": "ccd85bcc-f6d8-41d4-a835-830801312248"
      },
      "outputs": [
        {
          "name": "stdout",
          "output_type": "stream",
          "text": [
            "None\n"
          ]
        }
      ],
      "source": [
        "class Rectangle:\n",
        "  def __init__(self, length, breadth):\n",
        "    self.length = length\n",
        "    self.breadth = breadth\n",
        "\n",
        "  def area(self):\n",
        "    self.area = self.length * self.breadth\n",
        "\n",
        "class Square(Rectangle):\n",
        "  def __init__(self, length):\n",
        "    Rectangle.__init__(self, length, length)\n",
        "\n",
        "\n",
        "sq1 = Square(2)\n",
        "print(sq1.area())"
      ]
    }
  ],
  "metadata": {
    "colab": {
      "provenance": []
    },
    "kernelspec": {
      "display_name": "Python 3",
      "name": "python3"
    },
    "language_info": {
      "codemirror_mode": {
        "name": "ipython",
        "version": 3
      },
      "file_extension": ".py",
      "mimetype": "text/x-python",
      "name": "python",
      "nbconvert_exporter": "python",
      "pygments_lexer": "ipython3",
      "version": "3.9.16"
    }
  },
  "nbformat": 4,
  "nbformat_minor": 0
}
