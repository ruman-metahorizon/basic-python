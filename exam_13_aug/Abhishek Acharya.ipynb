{
  "nbformat": 4,
  "nbformat_minor": 0,
  "metadata": {
    "colab": {
      "provenance": []
    },
    "kernelspec": {
      "name": "python3",
      "display_name": "Python 3"
    },
    "language_info": {
      "name": "python"
    }
  },
  "cells": [
    {
      "cell_type": "markdown",
      "source": [
        "Q.1: Convert temp from celcius to fahrenheit"
      ],
      "metadata": {
        "id": "a3W7Zh7B3Idq"
      }
    },
    {
      "cell_type": "code",
      "execution_count": null,
      "metadata": {
        "id": "RDldub593HsN",
        "colab": {
          "base_uri": "https://localhost:8080/"
        },
        "outputId": "cd702146-07ab-498a-bd8a-86ded1978640"
      },
      "outputs": [
        {
          "output_type": "stream",
          "name": "stdout",
          "text": [
            "Enter temperature in Celsius: 12\n",
            "Temperature in Fahrenheit: 53.6\n"
          ]
        }
      ],
      "source": [
        "def celsius_to_fahrenheit(celsius):\n",
        "    fahrenheit = (celsius * 9/5) + 32\n",
        "    return fahrenheit\n",
        "\n",
        "celsius_temperature = float(input(\"Enter temperature in Celsius: \"))\n",
        "fahrenheit_temperature = celsius_to_fahrenheit(celsius_temperature)\n",
        "print(\"Temperature in Fahrenheit:\", fahrenheit_temperature)\n",
        "\n",
        "\n"
      ]
    },
    {
      "cell_type": "markdown",
      "source": [
        "**Q**.2: Given list of integers and find sum of all positive numbers"
      ],
      "metadata": {
        "id": "FesLt5ny3QMv"
      }
    },
    {
      "cell_type": "code",
      "source": [
        "def sum_positive_numbers(numbers):\n",
        "    positive_sum = 0\n",
        "    for num in numbers:\n",
        "        if num > 0:\n",
        "            positive_sum += num\n",
        "    return positive_sum\n",
        "\n",
        "integer_list = [-5, 10, -3, 7, 0, 2]\n",
        "\n",
        "result = sum_positive_numbers(integer_list)\n",
        "print(\"Sum of positive numbers:\", result)\n"
      ],
      "metadata": {
        "id": "tBv69aiL3U-S",
        "colab": {
          "base_uri": "https://localhost:8080/"
        },
        "outputId": "0406a339-7ff6-47a0-c12f-a7745c5c00fc"
      },
      "execution_count": null,
      "outputs": [
        {
          "output_type": "stream",
          "name": "stdout",
          "text": [
            "Sum of positive numbers: 19\n"
          ]
        }
      ]
    },
    {
      "cell_type": "markdown",
      "source": [
        "Q.3: write program to convert given number of days into years, weeks and days"
      ],
      "metadata": {
        "id": "qI-JUigu3Vvq"
      }
    },
    {
      "cell_type": "code",
      "source": [
        "def convert_days_to_years_weeks_days(days):\n",
        "    years = days // 365\n",
        "    weeks = (days % 365) // 7\n",
        "    remaining_days = days - (years * 365) - (weeks * 7)\n",
        "    return years, weeks, remaining_days\n",
        "\n",
        "days_input = int(input(\"Enter the number of days: \"))\n",
        "\n",
        "years, weeks, remaining_days = convert_days_to_years_weeks_days(days_input)\n",
        "\n",
        "print(f\"{days_input} days is approximately:\")\n",
        "print(f\"{years} years, {weeks} weeks, and {remaining_days} days.\")\n"
      ],
      "metadata": {
        "id": "krx-lnkg3aXf",
        "colab": {
          "base_uri": "https://localhost:8080/"
        },
        "outputId": "a2bcfc67-3bb8-46fa-a940-f0849a825972"
      },
      "execution_count": null,
      "outputs": [
        {
          "output_type": "stream",
          "name": "stdout",
          "text": [
            "Enter the number of days: 365\n",
            "365 days is approximately:\n",
            "1 years, 0 weeks, and 0 days.\n"
          ]
        }
      ]
    },
    {
      "cell_type": "markdown",
      "source": [
        "Q.4: Given list of numbers find maximum and minimum values"
      ],
      "metadata": {
        "id": "IStRz9Lq3bNj"
      }
    },
    {
      "cell_type": "code",
      "source": [
        "def maximum(numbers):\n",
        "  return max(numbers)\n",
        "\n",
        "def minimum(numbers):\n",
        "  return min(numbers)\n",
        "\n",
        "numbers = [1,2,3,4,5]\n",
        "\n",
        "print(f\"Maximum: {maximum(numbers)}\")\n",
        "print(f\"Minimum: {minimum(numbers)}\")"
      ],
      "metadata": {
        "id": "RpYrB2LW3ey-",
        "colab": {
          "base_uri": "https://localhost:8080/"
        },
        "outputId": "db2919c7-2d20-4893-c94f-3256a9233148"
      },
      "execution_count": null,
      "outputs": [
        {
          "output_type": "stream",
          "name": "stdout",
          "text": [
            "Maximum: 5\n",
            "Minimum: 1\n"
          ]
        }
      ]
    },
    {
      "cell_type": "markdown",
      "source": [
        "Q.5: Create a list of fruits and access element using indexing"
      ],
      "metadata": {
        "id": "3FP7AZU93fe7"
      }
    },
    {
      "cell_type": "code",
      "source": [
        "fruits = ['apple', 'banana', 'kiwi', 'guava']\n",
        "\n",
        "print(fruits[0])\n",
        "print(fruits[-1])"
      ],
      "metadata": {
        "id": "dazfNBYO3jH-",
        "colab": {
          "base_uri": "https://localhost:8080/"
        },
        "outputId": "d5949d8c-4e4c-4d99-879e-7e7a546a9a93"
      },
      "execution_count": null,
      "outputs": [
        {
          "output_type": "stream",
          "name": "stdout",
          "text": [
            "apple\n",
            "guava\n"
          ]
        }
      ]
    },
    {
      "cell_type": "markdown",
      "source": [
        "Q.6: Create a function to cound number of vowels in a given string"
      ],
      "metadata": {
        "id": "KEY45AUE3k7L"
      }
    },
    {
      "cell_type": "code",
      "source": [
        "def count_vowel(string):\n",
        "  count = 0\n",
        "  for s in string:\n",
        "    if s == 'a' or s == 'e' or s == 'i' or s == 'o' or s == 'u':\n",
        "      count += 1\n",
        "  return count\n",
        "\n",
        "count_vowel('asedi')"
      ],
      "metadata": {
        "id": "APBPsM1R3pYT",
        "colab": {
          "base_uri": "https://localhost:8080/"
        },
        "outputId": "7d8abaaf-b354-4e0b-95fa-ab1ec6f512ba"
      },
      "execution_count": null,
      "outputs": [
        {
          "output_type": "execute_result",
          "data": {
            "text/plain": [
              "3"
            ]
          },
          "metadata": {},
          "execution_count": 26
        }
      ]
    },
    {
      "cell_type": "markdown",
      "source": [
        "Q. 7: Given list of names, concatenate them into single string seperated by spaces"
      ],
      "metadata": {
        "id": "aJQRjlj33pzi"
      }
    },
    {
      "cell_type": "code",
      "source": [
        "def concatenate_names_with_spaces(name_list):\n",
        "    concatenated_names = \" \".join(name_list)\n",
        "    return concatenated_names\n",
        "\n",
        "names = [\"John\", \"Jane\", \"Alice\", \"Bob\"]\n",
        "result = concatenate_names_with_spaces(names)\n",
        "print(result)\n",
        "\n"
      ],
      "metadata": {
        "id": "96hAelCj3tJk",
        "colab": {
          "base_uri": "https://localhost:8080/"
        },
        "outputId": "f41dd300-9e27-4835-a0bd-8f3630f0ccbc"
      },
      "execution_count": null,
      "outputs": [
        {
          "output_type": "stream",
          "name": "stdout",
          "text": [
            "John Jane Alice Bob\n"
          ]
        }
      ]
    },
    {
      "cell_type": "markdown",
      "source": [
        "Q. 8: Create a function to reverse a given string"
      ],
      "metadata": {
        "id": "Vs-AHhq33tv-"
      }
    },
    {
      "cell_type": "code",
      "source": [
        "def RevString(string):\n",
        "  return string[::-1]\n",
        "\n",
        "RevString('abc')"
      ],
      "metadata": {
        "id": "77MV5lWf3xn1",
        "colab": {
          "base_uri": "https://localhost:8080/",
          "height": 35
        },
        "outputId": "55e55894-a84f-48d8-d930-8dc03e368115"
      },
      "execution_count": null,
      "outputs": [
        {
          "output_type": "execute_result",
          "data": {
            "text/plain": [
              "'cba'"
            ],
            "application/vnd.google.colaboratory.intrinsic+json": {
              "type": "string"
            }
          },
          "metadata": {},
          "execution_count": 17
        }
      ]
    },
    {
      "cell_type": "markdown",
      "source": [
        "Q.9: Create a loop that prints first 10 even numbers"
      ],
      "metadata": {
        "id": "pKD-J6NF3yLn"
      }
    },
    {
      "cell_type": "code",
      "source": [
        "for i in range(1, 21):\n",
        "  if i%2 == 0:\n",
        "    print(i)"
      ],
      "metadata": {
        "id": "FdVBxjqW314f",
        "colab": {
          "base_uri": "https://localhost:8080/"
        },
        "outputId": "61fe8b41-71d5-4bfa-fe5d-707a3fb35367"
      },
      "execution_count": null,
      "outputs": [
        {
          "output_type": "stream",
          "name": "stdout",
          "text": [
            "2\n",
            "4\n",
            "6\n",
            "8\n",
            "10\n",
            "12\n",
            "14\n",
            "16\n",
            "18\n",
            "20\n"
          ]
        }
      ]
    },
    {
      "cell_type": "markdown",
      "source": [
        "Q.10: Given list of names, print all names starting with letter A\n",
        "\n",
        "> Indented block\n",
        "\n"
      ],
      "metadata": {
        "id": "3uMj2v4m32Zq"
      }
    },
    {
      "cell_type": "code",
      "source": [
        "def print_names_starting_with_a(name_list):\n",
        "    for name in name_list:\n",
        "        if name.startswith(\"A\"):\n",
        "            print(name)\n",
        "\n",
        "names = [\"Alice\", \"Bob\", \"Amy\", \"Alex\", \"Eve\", \"Anna\"]\n",
        "print_names_starting_with_a(names)\n"
      ],
      "metadata": {
        "id": "MSdXfdxx37hw",
        "colab": {
          "base_uri": "https://localhost:8080/"
        },
        "outputId": "42faca2a-819c-4080-dd66-c0b2ff720b48"
      },
      "execution_count": 40,
      "outputs": [
        {
          "output_type": "stream",
          "name": "stdout",
          "text": [
            "Alice\n",
            "Amy\n",
            "Alex\n",
            "Anna\n"
          ]
        }
      ]
    },
    {
      "cell_type": "markdown",
      "source": [
        "Q. 11: Implement a program that prints multiplication table of a given number"
      ],
      "metadata": {
        "id": "c5nea-Bf38iX"
      }
    },
    {
      "cell_type": "code",
      "source": [
        "def multiplication_table(n):\n",
        "  print(f\"{n}*1 = {n*1}\")\n",
        "  print(f\"{n}*2 = {n*2}\")\n",
        "  print(f\"{n}*3 = {n*3}\")\n",
        "  print(f\"{n}*4 = {n*4}\")\n",
        "  print(f\"{n}*5 = {n*5}\")\n",
        "  print(f\"{n}*6 = {n*6}\")\n",
        "  print(f\"{n}*7 = {n*7}\")\n",
        "  print(f\"{n}*8 = {n*8}\")\n",
        "  print(f\"{n}*9 = {n*9}\")\n",
        "  print(f\"{n}*10 = {n*10}\")\n",
        "\n",
        "\n",
        "multiplication_table(7)"
      ],
      "metadata": {
        "id": "T10_Mtmn4AGE",
        "colab": {
          "base_uri": "https://localhost:8080/"
        },
        "outputId": "ac319a38-b6f2-4efc-dc1c-7a32a8681e33"
      },
      "execution_count": 39,
      "outputs": [
        {
          "output_type": "stream",
          "name": "stdout",
          "text": [
            "7*1 = 7\n",
            "7*2 = 14\n",
            "7*3 = 21\n",
            "7*4 = 28\n",
            "7*5 = 35\n",
            "7*6 = 42\n",
            "7*7 = 49\n",
            "7*8 = 56\n",
            "7*9 = 63\n",
            "7*10 = 70\n"
          ]
        }
      ]
    },
    {
      "cell_type": "markdown",
      "source": [
        "Q.12: Given list of words, count the number of words with more than five characters"
      ],
      "metadata": {
        "id": "Zi0639MR4AeQ"
      }
    },
    {
      "cell_type": "code",
      "source": [
        "def count_words_with_more_than_five_characters(word_list):\n",
        "    count = 0\n",
        "    for word in word_list:\n",
        "        if len(word) > 5:\n",
        "            count += 1\n",
        "    return count\n",
        "\n",
        "words = [\"apple\", \"banana\", \"grape\", \"strawberry\", \"kiwi\", \"orange\"]\n",
        "result = count_words_with_more_than_five_characters(words)\n",
        "print(\"Number of words with more than five characters:\", result)\n"
      ],
      "metadata": {
        "id": "scoGZlAT4Fai",
        "colab": {
          "base_uri": "https://localhost:8080/"
        },
        "outputId": "d7700cc0-f487-4d18-d95c-9cb9dfbd2b67"
      },
      "execution_count": 41,
      "outputs": [
        {
          "output_type": "stream",
          "name": "stdout",
          "text": [
            "Number of words with more than five characters: 3\n"
          ]
        }
      ]
    },
    {
      "cell_type": "markdown",
      "source": [
        "Q.13: write a function to calculate area of circle given its radius"
      ],
      "metadata": {
        "id": "3RPHEsZ84F0-"
      }
    },
    {
      "cell_type": "code",
      "source": [
        "import math\n",
        "\n",
        "def calculate_circle_area(radius):\n",
        "    if radius < 0:\n",
        "        return \"Radius cannot be negative\"\n",
        "\n",
        "    area = math.pi * (radius ** 2)\n",
        "    return area\n",
        "\n",
        "radius = float(input(\"Enter the radius of the circle: \"))\n",
        "area = calculate_circle_area(radius)\n",
        "print(f\"The area of the circle with radius {radius} is {area:.2f}\")"
      ],
      "metadata": {
        "id": "oBYlxTZn4G6U",
        "colab": {
          "base_uri": "https://localhost:8080/"
        },
        "outputId": "94f7cf72-6a5c-49f5-b3dd-7dc726bb4ce0"
      },
      "execution_count": null,
      "outputs": [
        {
          "output_type": "stream",
          "name": "stdout",
          "text": [
            "Enter the radius of the circle: 2\n",
            "The area of the circle with radius 2.0 is 12.57\n"
          ]
        }
      ]
    },
    {
      "cell_type": "markdown",
      "source": [
        "Q.14 write a function that takes two lists and return their intersection"
      ],
      "metadata": {
        "id": "mor-rMMe4Hpv"
      }
    },
    {
      "cell_type": "code",
      "source": [
        "def find_intersection(list1, list2):\n",
        "    return list(set(list1) & set(list2))\n",
        "\n",
        "list1 = [1,2,3,4,5]\n",
        "list2 = [4,5,6,7,8]\n",
        "\n",
        "find_intersection(list1, list2)"
      ],
      "metadata": {
        "id": "cOjI6T8O4Ksv",
        "colab": {
          "base_uri": "https://localhost:8080/"
        },
        "outputId": "518bc427-7b49-440a-8073-af28d68e37b2"
      },
      "execution_count": 43,
      "outputs": [
        {
          "output_type": "execute_result",
          "data": {
            "text/plain": [
              "[4, 5]"
            ]
          },
          "metadata": {},
          "execution_count": 43
        }
      ]
    },
    {
      "cell_type": "markdown",
      "source": [
        "Q.15: add a new key value pair to an existing dictionary"
      ],
      "metadata": {
        "id": "o6p49VCT4LUp"
      }
    },
    {
      "cell_type": "code",
      "source": [
        "ed = {}\n",
        "\n",
        "ed[\"key1\"] = \"value_1\"\n",
        "ed[\"key2\"] = \"value_2\"\n",
        "\n",
        "print(ed)"
      ],
      "metadata": {
        "id": "tlVr8Xvq4OPp",
        "colab": {
          "base_uri": "https://localhost:8080/"
        },
        "outputId": "59a5c55b-e57a-46bf-ec17-584c1c2b0740"
      },
      "execution_count": 33,
      "outputs": [
        {
          "output_type": "stream",
          "name": "stdout",
          "text": [
            "{'key1': 'value_1', 'key2': 'value_2'}\n"
          ]
        }
      ]
    },
    {
      "cell_type": "markdown",
      "source": [],
      "metadata": {
        "id": "CuMEG2xB4O1A"
      }
    },
    {
      "cell_type": "markdown",
      "source": [
        "Q.16: implement a program that uses inheritance to represent a hierarchy of shapes (circle, triangle, rectangle etc)"
      ],
      "metadata": {
        "id": "PQXse6-l4O6v"
      }
    },
    {
      "cell_type": "code",
      "source": [
        "import math\n",
        "\n",
        "class Shape:\n",
        "    def area(self):\n",
        "        pass\n",
        "\n",
        "class Circle(Shape):\n",
        "    def __init__(self, radius):\n",
        "        self.radius = radius\n",
        "\n",
        "    def area(self):\n",
        "        return math.pi * self.radius ** 2\n",
        "\n",
        "class Triangle(Shape):\n",
        "    def __init__(self, base, height):\n",
        "        self.base = base\n",
        "        self.height = height\n",
        "\n",
        "    def area(self):\n",
        "        return 0.5 * self.base * self.height\n",
        "\n",
        "class Rectangle(Shape):\n",
        "    def __init__(self, width, height):\n",
        "        self.width = width\n",
        "        self.height = height\n",
        "\n",
        "    def area(self):\n",
        "        return self.width * self.height\n",
        "\n",
        "\n",
        "circle = Circle(5)\n",
        "print(\"Circle Area:\", circle.area())\n",
        "\n",
        "triangle = Triangle(4, 8)\n",
        "print(\"Triangle Area:\", triangle.area())\n",
        "\n",
        "rectangle = Rectangle(6, 10)\n",
        "print(\"Rectangle Area:\", rectangle.area())\n"
      ],
      "metadata": {
        "id": "fL6n2O4A4Sf0",
        "colab": {
          "base_uri": "https://localhost:8080/"
        },
        "outputId": "d55d4781-f8d8-41b5-9abe-cec0993be436"
      },
      "execution_count": 44,
      "outputs": [
        {
          "output_type": "stream",
          "name": "stdout",
          "text": [
            "Circle Area: 78.53981633974483\n",
            "Triangle Area: 16.0\n",
            "Rectangle Area: 60\n"
          ]
        }
      ]
    }
  ]
}