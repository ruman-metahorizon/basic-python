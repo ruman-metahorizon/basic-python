{
  "nbformat": 4,
  "nbformat_minor": 0,
  "metadata": {
    "colab": {
      "provenance": []
    },
    "kernelspec": {
      "name": "python3",
      "display_name": "Python 3"
    },
    "language_info": {
      "name": "python"
    }
  },
  "cells": [
    {
      "cell_type": "markdown",
      "source": [
        "Q.1: Convert temp from celcius to fahrenheit"
      ],
      "metadata": {
        "id": "a3W7Zh7B3Idq"
      }
    },
    {
      "cell_type": "code",
      "execution_count": 1,
      "metadata": {
        "id": "RDldub593HsN",
        "colab": {
          "base_uri": "https://localhost:8080/"
        },
        "outputId": "1be4c5df-7709-4a8d-c905-b02f14b99d6c"
      },
      "outputs": [
        {
          "output_type": "stream",
          "name": "stdout",
          "text": [
            "32.0\n"
          ]
        }
      ],
      "source": [
        "def celcius_to_fahrenheit(c):\n",
        "  f = (c * (9 / 5) + 32)\n",
        "  print(f)\n",
        "\n",
        "\n",
        "\n",
        "celcius_to_fahrenheit(0)"
      ]
    },
    {
      "cell_type": "markdown",
      "source": [
        "Q.2: Given list of integers and find sum of all positive numbers"
      ],
      "metadata": {
        "id": "FesLt5ny3QMv"
      }
    },
    {
      "cell_type": "code",
      "source": [
        "list = [1,2,3,4,5,6,7,8,9]\n",
        "s = 0\n",
        "for i in list:\n",
        "  s = i + s\n",
        "print(list)\n",
        "print(\"the sum of all positive number is\", s)\n",
        "\n"
      ],
      "metadata": {
        "id": "tBv69aiL3U-S",
        "colab": {
          "base_uri": "https://localhost:8080/"
        },
        "outputId": "3af5f28b-241f-411f-8931-5067abbfb4f5"
      },
      "execution_count": 11,
      "outputs": [
        {
          "output_type": "stream",
          "name": "stdout",
          "text": [
            "[1, 2, 3, 4, 5, 6, 7, 8, 9]\n",
            "the sum of all positive number is 45\n"
          ]
        }
      ]
    },
    {
      "cell_type": "markdown",
      "source": [
        "Q.3: write program to convert given number of days into years, weeks and days"
      ],
      "metadata": {
        "id": "qI-JUigu3Vvq"
      }
    },
    {
      "cell_type": "code",
      "source": [
        "# a = input(\"Enter the number of days: \")\n",
        "a = 1000\n",
        "\n",
        "if a >= 365:\n",
        "   y = a // 365\n",
        "   print(y, \"years\")\n",
        "   s = a - (y * 365)\n",
        "   if s >= 7:\n",
        "    w = s // 7\n",
        "    print(w, \"weeks\")\n",
        "    d = s - (w * 7)\n",
        "    print(d, \"days\")\n",
        "\n",
        "\n",
        "\n",
        ""
      ],
      "metadata": {
        "id": "krx-lnkg3aXf",
        "colab": {
          "base_uri": "https://localhost:8080/"
        },
        "outputId": "70549582-b431-4fb4-8c44-4fb3c5fccf55"
      },
      "execution_count": 56,
      "outputs": [
        {
          "output_type": "stream",
          "name": "stdout",
          "text": [
            "2 years\n",
            "38 weeks\n",
            "4 days\n"
          ]
        }
      ]
    },
    {
      "cell_type": "markdown",
      "source": [
        "Q.4: Given list of numbers find maximum and minimum values"
      ],
      "metadata": {
        "id": "IStRz9Lq3bNj"
      }
    },
    {
      "cell_type": "code",
      "source": [
        "list = [10, 49, 30, 48, 100, 90, 65]\n",
        "\n",
        "\n",
        "print(max(list))\n",
        "list = [10, 49, 30, 48, 100, 90, 65]\n",
        "print(min(list))"
      ],
      "metadata": {
        "id": "RpYrB2LW3ey-",
        "colab": {
          "base_uri": "https://localhost:8080/"
        },
        "outputId": "ada81389-8d25-4e9d-cbb3-186b1e5416d3"
      },
      "execution_count": 46,
      "outputs": [
        {
          "output_type": "stream",
          "name": "stdout",
          "text": [
            "100\n",
            "10\n"
          ]
        }
      ]
    },
    {
      "cell_type": "markdown",
      "source": [
        "Q.5: Create a list of fruits and access element using indexing"
      ],
      "metadata": {
        "id": "3FP7AZU93fe7"
      }
    },
    {
      "cell_type": "code",
      "source": [
        "fruits = ['apple', 'banana', 'orange', 'mango']\n",
        "print(fruits[0])\n",
        "print(fruits[-1])"
      ],
      "metadata": {
        "id": "dazfNBYO3jH-",
        "colab": {
          "base_uri": "https://localhost:8080/"
        },
        "outputId": "e9ff294c-82ac-40b0-869f-547815cd1816"
      },
      "execution_count": 18,
      "outputs": [
        {
          "output_type": "stream",
          "name": "stdout",
          "text": [
            "apple\n",
            "mango\n"
          ]
        }
      ]
    },
    {
      "cell_type": "markdown",
      "source": [
        "Q.6: Create a function to cound number of vowels in a given string"
      ],
      "metadata": {
        "id": "KEY45AUE3k7L"
      }
    },
    {
      "cell_type": "code",
      "source": [
        "def vowels(x):\n",
        "  count = 0\n",
        "  for i in x:\n",
        "    if i == 'a' or i == 'e' or i == 'i' or i == 'o' or i == 'u':\n",
        "      count += 1\n",
        "  print(count)\n",
        "\n",
        "vowels(\"sabin\")"
      ],
      "metadata": {
        "id": "APBPsM1R3pYT",
        "colab": {
          "base_uri": "https://localhost:8080/"
        },
        "outputId": "aaceb20f-d7df-49cd-b62c-a7bf64ef26b5"
      },
      "execution_count": 20,
      "outputs": [
        {
          "output_type": "stream",
          "name": "stdout",
          "text": [
            "2\n"
          ]
        }
      ]
    },
    {
      "cell_type": "markdown",
      "source": [
        "Q. 7: Given list of names, concatenate them into single string seperated by spaces"
      ],
      "metadata": {
        "id": "aJQRjlj33pzi"
      }
    },
    {
      "cell_type": "code",
      "source": [],
      "metadata": {
        "id": "96hAelCj3tJk"
      },
      "execution_count": null,
      "outputs": []
    },
    {
      "cell_type": "markdown",
      "source": [
        "Q. 8: Create a function to reverse a given string"
      ],
      "metadata": {
        "id": "Vs-AHhq33tv-"
      }
    },
    {
      "cell_type": "code",
      "source": [
        "def reverse(w):\n",
        "  a = ''\n",
        "  for s in w:\n",
        "    a = s + a\n",
        "\n",
        "  print(a)\n",
        "\n",
        "\n",
        "reverse(\"sabin\")"
      ],
      "metadata": {
        "id": "77MV5lWf3xn1",
        "colab": {
          "base_uri": "https://localhost:8080/"
        },
        "outputId": "99402656-b7b2-49a0-bc07-ba4c03bcf041"
      },
      "execution_count": 28,
      "outputs": [
        {
          "output_type": "stream",
          "name": "stdout",
          "text": [
            "nibas\n"
          ]
        }
      ]
    },
    {
      "cell_type": "markdown",
      "source": [
        "Q.9: Create a loop that prints first 10 even numbers"
      ],
      "metadata": {
        "id": "pKD-J6NF3yLn"
      }
    },
    {
      "cell_type": "code",
      "source": [
        "i = 0\n",
        "a = 0\n",
        "while i <= 9:\n",
        "  a = a + 2\n",
        "  print(a)\n",
        "  i += 1\n",
        "\n",
        "\n",
        "\n",
        "\n"
      ],
      "metadata": {
        "id": "FdVBxjqW314f",
        "colab": {
          "base_uri": "https://localhost:8080/"
        },
        "outputId": "2504bd62-fb80-43e1-dc54-c72c9b01a241"
      },
      "execution_count": 34,
      "outputs": [
        {
          "output_type": "stream",
          "name": "stdout",
          "text": [
            "2\n",
            "4\n",
            "6\n",
            "8\n",
            "10\n",
            "12\n",
            "14\n",
            "16\n",
            "18\n",
            "20\n"
          ]
        }
      ]
    },
    {
      "cell_type": "markdown",
      "source": [
        "Q.10: Given list of names, print all names starting with letter A"
      ],
      "metadata": {
        "id": "3uMj2v4m32Zq"
      }
    },
    {
      "cell_type": "code",
      "source": [],
      "metadata": {
        "id": "MSdXfdxx37hw"
      },
      "execution_count": null,
      "outputs": []
    },
    {
      "cell_type": "markdown",
      "source": [
        "Q. 11: Implement a program that prints multiplication table of a given number"
      ],
      "metadata": {
        "id": "c5nea-Bf38iX"
      }
    },
    {
      "cell_type": "code",
      "source": [
        "def multiplication(n):\n",
        "  i = 1\n",
        "  m = 0\n",
        "\n",
        "  while i <=10:\n",
        "    m = i * n\n",
        "    print(i, 'X', n, '=', m)\n",
        "    i+=1\n",
        "\n",
        "multiplication(7)"
      ],
      "metadata": {
        "id": "T10_Mtmn4AGE",
        "colab": {
          "base_uri": "https://localhost:8080/"
        },
        "outputId": "c914287f-6662-46e9-8757-48c7247bbae1"
      },
      "execution_count": 35,
      "outputs": [
        {
          "output_type": "stream",
          "name": "stdout",
          "text": [
            "1 X 7 = 7\n",
            "2 X 7 = 14\n",
            "3 X 7 = 21\n",
            "4 X 7 = 28\n",
            "5 X 7 = 35\n",
            "6 X 7 = 42\n",
            "7 X 7 = 49\n",
            "8 X 7 = 56\n",
            "9 X 7 = 63\n",
            "10 X 7 = 70\n"
          ]
        }
      ]
    },
    {
      "cell_type": "markdown",
      "source": [
        "Q.12: Given list of words, count the number of words with more than five characters"
      ],
      "metadata": {
        "id": "Zi0639MR4AeQ"
      }
    },
    {
      "cell_type": "code",
      "source": [
        "list = ['sabin', 'apple', 'banana', 'car', 'bike', 'mango', 'orange']\n",
        "\n",
        "for i in list:\n",
        "  a = len(i)\n",
        "  if a > 5:\n",
        "    print(i)\n",
        "    print(len(i))"
      ],
      "metadata": {
        "id": "scoGZlAT4Fai",
        "colab": {
          "base_uri": "https://localhost:8080/"
        },
        "outputId": "cd701eda-517f-4fb5-803c-8729e8246827"
      },
      "execution_count": 43,
      "outputs": [
        {
          "output_type": "stream",
          "name": "stdout",
          "text": [
            "banana\n",
            "6\n",
            "orange\n",
            "6\n"
          ]
        }
      ]
    },
    {
      "cell_type": "markdown",
      "source": [
        "Q.13: write a function to calculate area of circle given its radius"
      ],
      "metadata": {
        "id": "3RPHEsZ84F0-"
      }
    },
    {
      "cell_type": "code",
      "source": [
        "from math import pi\n",
        "def area_of_circle(r):\n",
        "  a = pi * r ** 2\n",
        "  print(a)\n",
        "\n",
        "area_of_circle(5)"
      ],
      "metadata": {
        "id": "oBYlxTZn4G6U",
        "colab": {
          "base_uri": "https://localhost:8080/"
        },
        "outputId": "905b045e-544a-4b5e-c2dd-085126742a72"
      },
      "execution_count": 37,
      "outputs": [
        {
          "output_type": "stream",
          "name": "stdout",
          "text": [
            "78.53981633974483\n"
          ]
        }
      ]
    },
    {
      "cell_type": "markdown",
      "source": [
        "Q.14 write a function that takes two lists and return their intersection"
      ],
      "metadata": {
        "id": "mor-rMMe4Hpv"
      }
    },
    {
      "cell_type": "code",
      "source": [],
      "metadata": {
        "id": "cOjI6T8O4Ksv"
      },
      "execution_count": null,
      "outputs": []
    },
    {
      "cell_type": "markdown",
      "source": [
        "Q.15: add a new key value pair to an existing dictionary"
      ],
      "metadata": {
        "id": "o6p49VCT4LUp"
      }
    },
    {
      "cell_type": "code",
      "source": [
        "car = {\n",
        "    'model' : 'suzuki',\n",
        "    'price' : 100000,\n",
        "\n",
        "}\n",
        "print(car)\n",
        "car['year'] = 2023\n",
        "print(car)"
      ],
      "metadata": {
        "id": "tlVr8Xvq4OPp",
        "colab": {
          "base_uri": "https://localhost:8080/"
        },
        "outputId": "2d0debba-c153-486e-8094-4fb63938454c"
      },
      "execution_count": 45,
      "outputs": [
        {
          "output_type": "stream",
          "name": "stdout",
          "text": [
            "{'model': 'suzuki', 'price': 100000}\n",
            "{'model': 'suzuki', 'price': 100000, 'year': 2023}\n"
          ]
        }
      ]
    },
    {
      "cell_type": "markdown",
      "source": [],
      "metadata": {
        "id": "CuMEG2xB4O1A"
      }
    },
    {
      "cell_type": "markdown",
      "source": [
        "Q.16: implement a program that uses inheritance to represent a hierarchy of shapes (circle, triangle, rectangle etc)"
      ],
      "metadata": {
        "id": "PQXse6-l4O6v"
      }
    },
    {
      "cell_type": "code",
      "source": [],
      "metadata": {
        "id": "fL6n2O4A4Sf0"
      },
      "execution_count": null,
      "outputs": []
    }
  ]
}