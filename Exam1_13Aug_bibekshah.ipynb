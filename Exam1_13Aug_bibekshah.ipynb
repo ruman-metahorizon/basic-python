{
  "nbformat": 4,
  "nbformat_minor": 0,
  "metadata": {
    "colab": {
      "provenance": []
    },
    "kernelspec": {
      "name": "python3",
      "display_name": "Python 3"
    },
    "language_info": {
      "name": "python"
    }
  },
  "cells": [
    {
      "cell_type": "markdown",
      "source": [
        "Q.1: Convert temp from celcius to fahrenheit"
      ],
      "metadata": {
        "id": "a3W7Zh7B3Idq"
      }
    },
    {
      "cell_type": "code",
      "execution_count": 62,
      "metadata": {
        "id": "RDldub593HsN",
        "colab": {
          "base_uri": "https://localhost:8080/"
        },
        "outputId": "5b196f03-fe00-4eec-e849-e0a269860067"
      },
      "outputs": [
        {
          "output_type": "stream",
          "name": "stdout",
          "text": [
            "93.2\n"
          ]
        }
      ],
      "source": [
        "def fahrenheit(c):\n",
        "  print(( c * 9/5) + 32 )\n",
        "\n",
        "\n",
        "fahrenheit(34)\n",
        "\n",
        "\n",
        "\n"
      ]
    },
    {
      "cell_type": "markdown",
      "source": [
        "Q.2: Given list of integers and find sum of all positive numbers"
      ],
      "metadata": {
        "id": "FesLt5ny3QMv"
      }
    },
    {
      "cell_type": "code",
      "source": [
        "list = [3,4,5,6,-1,-2,-3,-4]\n",
        "for i in list:\n",
        "    if i>0:\n",
        "      print(i)\n",
        "\n"
      ],
      "metadata": {
        "id": "tBv69aiL3U-S",
        "colab": {
          "base_uri": "https://localhost:8080/"
        },
        "outputId": "9a368263-44e1-4b24-f6a1-526e8d934fe0"
      },
      "execution_count": 129,
      "outputs": [
        {
          "output_type": "stream",
          "name": "stdout",
          "text": [
            "3\n",
            "4\n",
            "5\n",
            "6\n"
          ]
        }
      ]
    },
    {
      "cell_type": "markdown",
      "source": [
        "Q.3: write program to convert given number of days into years, weeks and days"
      ],
      "metadata": {
        "id": "qI-JUigu3Vvq"
      }
    },
    {
      "cell_type": "code",
      "source": [
        "def year_week_days(days):\n",
        "  print(days/365,\"year\",(days-(days/365)/7,\"week\",(days-(days-(days/365),\"days\"))))\n",
        "\n",
        "\n",
        "year_week_days(1000)"
      ],
      "metadata": {
        "id": "krx-lnkg3aXf",
        "colab": {
          "base_uri": "https://localhost:8080/",
          "height": 334
        },
        "outputId": "d212acc4-3766-466b-ac09-e08873e899fc"
      },
      "execution_count": 120,
      "outputs": [
        {
          "output_type": "error",
          "ename": "TypeError",
          "evalue": "ignored",
          "traceback": [
            "\u001b[0;31m---------------------------------------------------------------------------\u001b[0m",
            "\u001b[0;31mTypeError\u001b[0m                                 Traceback (most recent call last)",
            "\u001b[0;32m<ipython-input-120-a5ff5f98d6e5>\u001b[0m in \u001b[0;36m<cell line: 5>\u001b[0;34m()\u001b[0m\n\u001b[1;32m      3\u001b[0m \u001b[0;34m\u001b[0m\u001b[0m\n\u001b[1;32m      4\u001b[0m \u001b[0;34m\u001b[0m\u001b[0m\n\u001b[0;32m----> 5\u001b[0;31m \u001b[0myear_week_days\u001b[0m\u001b[0;34m(\u001b[0m\u001b[0;36m1000\u001b[0m\u001b[0;34m)\u001b[0m\u001b[0;34m\u001b[0m\u001b[0;34m\u001b[0m\u001b[0m\n\u001b[0m",
            "\u001b[0;32m<ipython-input-120-a5ff5f98d6e5>\u001b[0m in \u001b[0;36myear_week_days\u001b[0;34m(days)\u001b[0m\n\u001b[1;32m      1\u001b[0m \u001b[0;32mdef\u001b[0m \u001b[0myear_week_days\u001b[0m\u001b[0;34m(\u001b[0m\u001b[0mdays\u001b[0m\u001b[0;34m)\u001b[0m\u001b[0;34m:\u001b[0m\u001b[0;34m\u001b[0m\u001b[0;34m\u001b[0m\u001b[0m\n\u001b[0;32m----> 2\u001b[0;31m   \u001b[0mprint\u001b[0m\u001b[0;34m(\u001b[0m\u001b[0mdays\u001b[0m\u001b[0;34m/\u001b[0m\u001b[0;36m365\u001b[0m\u001b[0;34m,\u001b[0m\u001b[0;34m\"year\"\u001b[0m\u001b[0;34m,\u001b[0m\u001b[0;34m(\u001b[0m\u001b[0mdays\u001b[0m\u001b[0;34m-\u001b[0m\u001b[0;34m(\u001b[0m\u001b[0mdays\u001b[0m\u001b[0;34m/\u001b[0m\u001b[0;36m365\u001b[0m\u001b[0;34m)\u001b[0m\u001b[0;34m/\u001b[0m\u001b[0;36m7\u001b[0m\u001b[0;34m,\u001b[0m\u001b[0;34m\"week\"\u001b[0m\u001b[0;34m,\u001b[0m\u001b[0;34m(\u001b[0m\u001b[0mdays\u001b[0m\u001b[0;34m-\u001b[0m\u001b[0;34m(\u001b[0m\u001b[0mdays\u001b[0m\u001b[0;34m-\u001b[0m\u001b[0;34m(\u001b[0m\u001b[0mdays\u001b[0m\u001b[0;34m/\u001b[0m\u001b[0;36m365\u001b[0m\u001b[0;34m)\u001b[0m\u001b[0;34m,\u001b[0m\u001b[0;34m\"days\"\u001b[0m\u001b[0;34m)\u001b[0m\u001b[0;34m)\u001b[0m\u001b[0;34m)\u001b[0m\u001b[0;34m)\u001b[0m\u001b[0;34m\u001b[0m\u001b[0;34m\u001b[0m\u001b[0m\n\u001b[0m\u001b[1;32m      3\u001b[0m \u001b[0;34m\u001b[0m\u001b[0m\n\u001b[1;32m      4\u001b[0m \u001b[0;34m\u001b[0m\u001b[0m\n\u001b[1;32m      5\u001b[0m \u001b[0myear_week_days\u001b[0m\u001b[0;34m(\u001b[0m\u001b[0;36m1000\u001b[0m\u001b[0;34m)\u001b[0m\u001b[0;34m\u001b[0m\u001b[0;34m\u001b[0m\u001b[0m\n",
            "\u001b[0;31mTypeError\u001b[0m: unsupported operand type(s) for -: 'int' and 'tuple'"
          ]
        }
      ]
    },
    {
      "cell_type": "markdown",
      "source": [
        "Q.4: Given list of numbers find maximum and minimum values"
      ],
      "metadata": {
        "id": "IStRz9Lq3bNj"
      }
    },
    {
      "cell_type": "code",
      "source": [
        "list = [23,45,67,87,45]\n",
        "print(max(list))\n",
        "print(min(list))\n"
      ],
      "metadata": {
        "id": "RpYrB2LW3ey-",
        "colab": {
          "base_uri": "https://localhost:8080/"
        },
        "outputId": "a544c346-0bf8-4b19-b1ce-7c2ae6c5382d"
      },
      "execution_count": 2,
      "outputs": [
        {
          "output_type": "stream",
          "name": "stdout",
          "text": [
            "87\n",
            "23\n"
          ]
        }
      ]
    },
    {
      "cell_type": "markdown",
      "source": [
        "Q.5: Create a list of fruits and access element using indexing"
      ],
      "metadata": {
        "id": "3FP7AZU93fe7"
      }
    },
    {
      "cell_type": "code",
      "source": [
        "fruits = [\"Apple\",\"Mango\",\"Banana\",\"orange\",\"Guava\"]\n",
        "print(fruits[0:4])\n",
        "print(fruits[:])\n",
        "print(fruits[0])\n",
        "print(fruits[3])\n",
        "print(fruits[-2])\n",
        "print(fruits[-1::-1])\n"
      ],
      "metadata": {
        "id": "dazfNBYO3jH-",
        "colab": {
          "base_uri": "https://localhost:8080/"
        },
        "outputId": "5dee77e6-e157-4dcf-f21b-c2aad06eda76"
      },
      "execution_count": 25,
      "outputs": [
        {
          "output_type": "stream",
          "name": "stdout",
          "text": [
            "['Apple', 'Mango', 'Banana', 'orange']\n",
            "['Apple', 'Mango', 'Banana', 'orange', 'Guava']\n",
            "Apple\n",
            "orange\n",
            "orange\n",
            "['Guava', 'orange', 'Banana', 'Mango', 'Apple']\n"
          ]
        }
      ]
    },
    {
      "cell_type": "markdown",
      "source": [
        "Q.6: Create a function to cound number of vowels in a given string"
      ],
      "metadata": {
        "id": "KEY45AUE3k7L"
      }
    },
    {
      "cell_type": "code",
      "source": [
        "def count_vowels(word):\n",
        "  print(word)\n",
        "\n",
        "\n",
        "count_vowels(\"Hello\")\n"
      ],
      "metadata": {
        "id": "APBPsM1R3pYT",
        "colab": {
          "base_uri": "https://localhost:8080/"
        },
        "outputId": "f5092454-e5c0-4b6b-efb7-9698563eed45"
      },
      "execution_count": 131,
      "outputs": [
        {
          "output_type": "stream",
          "name": "stdout",
          "text": [
            "Hello\n"
          ]
        }
      ]
    },
    {
      "cell_type": "markdown",
      "source": [
        "Q. 7: Given list of names, concatenate them into single string seperated by spaces"
      ],
      "metadata": {
        "id": "aJQRjlj33pzi"
      }
    },
    {
      "cell_type": "code",
      "source": [
        "list = [\"Aarmin\",\"Eren\",\"Mikasa\",\"Tanjiro\",\"Rengoku\"]\n",
        "i = 0\n",
        "while i>=0 in list:\n",
        "  print(i)"
      ],
      "metadata": {
        "id": "96hAelCj3tJk"
      },
      "execution_count": 118,
      "outputs": []
    },
    {
      "cell_type": "markdown",
      "source": [
        "Q. 8: Create a function to reverse a given string"
      ],
      "metadata": {
        "id": "Vs-AHhq33tv-"
      }
    },
    {
      "cell_type": "code",
      "source": [
        "def reverse(name):\n",
        "  print(name[::-1])\n",
        "\n",
        "reverse(\"Bibek\")\n",
        "reverse(\"Python\")"
      ],
      "metadata": {
        "id": "77MV5lWf3xn1",
        "colab": {
          "base_uri": "https://localhost:8080/"
        },
        "outputId": "468d1704-1414-473a-e7e5-3b523f4d3b3e"
      },
      "execution_count": 64,
      "outputs": [
        {
          "output_type": "stream",
          "name": "stdout",
          "text": [
            "kebiB\n",
            "nohtyP\n"
          ]
        }
      ]
    },
    {
      "cell_type": "markdown",
      "source": [
        "Q.9: Create a loop that prints first 10 even numbers"
      ],
      "metadata": {
        "id": "pKD-J6NF3yLn"
      }
    },
    {
      "cell_type": "code",
      "source": [
        "i = 0\n",
        "while i in range(11):\n",
        "  print(i)\n",
        "\n",
        "  i = i+2\n"
      ],
      "metadata": {
        "id": "FdVBxjqW314f",
        "colab": {
          "base_uri": "https://localhost:8080/"
        },
        "outputId": "87259a1f-8953-446d-de51-091d8b3fc475"
      },
      "execution_count": 32,
      "outputs": [
        {
          "output_type": "stream",
          "name": "stdout",
          "text": [
            "0\n",
            "2\n",
            "4\n",
            "6\n",
            "8\n",
            "10\n"
          ]
        }
      ]
    },
    {
      "cell_type": "markdown",
      "source": [
        "Q.10: Given list of names,print all names starting with letter A"
      ],
      "metadata": {
        "id": "G96VRzxfceQI"
      }
    },
    {
      "cell_type": "markdown",
      "source": [],
      "metadata": {
        "id": "LaJ9SzzWcdHb"
      }
    },
    {
      "cell_type": "code",
      "source": [
        "list = [\"Aarmin\",\"Eren\",\"Mikasa\",\"Tanjiro\",\"Rengoku\",\"Ayush\",\"Akon\"]\n",
        "for i in list:\n",
        "  if i[0] == \"A\":\n",
        "    print(i)"
      ],
      "metadata": {
        "id": "MSdXfdxx37hw",
        "colab": {
          "base_uri": "https://localhost:8080/"
        },
        "outputId": "2e56cbe2-c229-421c-a9f5-be8a71c42fb5"
      },
      "execution_count": 97,
      "outputs": [
        {
          "output_type": "stream",
          "name": "stdout",
          "text": [
            "Aarmin\n",
            "Ayush\n",
            "Akon\n"
          ]
        }
      ]
    },
    {
      "cell_type": "markdown",
      "source": [
        "Q. 11: Implement a program that prints multiplication table of a given number"
      ],
      "metadata": {
        "id": "c5nea-Bf38iX"
      }
    },
    {
      "cell_type": "code",
      "source": [
        "def multi(a):\n",
        "  for i in range(11):\n",
        "      print(a,\"X\",i,\"=\",(a*i))\n",
        "\n",
        "\n",
        "multi(7)\n",
        "multi(11)"
      ],
      "metadata": {
        "id": "T10_Mtmn4AGE",
        "colab": {
          "base_uri": "https://localhost:8080/"
        },
        "outputId": "704c1854-18ba-45a2-f5cd-a05b58ca5316"
      },
      "execution_count": 38,
      "outputs": [
        {
          "output_type": "stream",
          "name": "stdout",
          "text": [
            "7 X 0 = 0\n",
            "7 X 1 = 7\n",
            "7 X 2 = 14\n",
            "7 X 3 = 21\n",
            "7 X 4 = 28\n",
            "7 X 5 = 35\n",
            "7 X 6 = 42\n",
            "7 X 7 = 49\n",
            "7 X 8 = 56\n",
            "7 X 9 = 63\n",
            "7 X 10 = 70\n",
            "11 X 0 = 0\n",
            "11 X 1 = 11\n",
            "11 X 2 = 22\n",
            "11 X 3 = 33\n",
            "11 X 4 = 44\n",
            "11 X 5 = 55\n",
            "11 X 6 = 66\n",
            "11 X 7 = 77\n",
            "11 X 8 = 88\n",
            "11 X 9 = 99\n",
            "11 X 10 = 110\n"
          ]
        }
      ]
    },
    {
      "cell_type": "markdown",
      "source": [
        "Q.12: Given list of words, count the number of words with more than five characters"
      ],
      "metadata": {
        "id": "Zi0639MR4AeQ"
      }
    },
    {
      "cell_type": "code",
      "source": [
        "list=[\"Aarmin\",\"Eren\",\"Mikasa\",\"Tanjiro\",\"Rengoku\"]\n",
        "for i in list:\n",
        "  if len(i)>5:\n",
        "    print(i)"
      ],
      "metadata": {
        "id": "scoGZlAT4Fai",
        "colab": {
          "base_uri": "https://localhost:8080/"
        },
        "outputId": "cb481c28-3f76-4d33-e718-8b5c00ab0df5"
      },
      "execution_count": 89,
      "outputs": [
        {
          "output_type": "stream",
          "name": "stdout",
          "text": [
            "Aarmin\n",
            "Mikasa\n",
            "Tanjiro\n",
            "Rengoku\n"
          ]
        }
      ]
    },
    {
      "cell_type": "markdown",
      "source": [
        "Q.13: write a function to calculate area of circle given its radius"
      ],
      "metadata": {
        "id": "3RPHEsZ84F0-"
      }
    },
    {
      "cell_type": "markdown",
      "source": [],
      "metadata": {
        "id": "oF08O93VcZfr"
      }
    },
    {
      "cell_type": "code",
      "source": [
        "def area_circle(radius):\n",
        "  print((22/7)*radius*radius)\n",
        "\n",
        "area_circle(4)"
      ],
      "metadata": {
        "id": "oBYlxTZn4G6U",
        "colab": {
          "base_uri": "https://localhost:8080/"
        },
        "outputId": "69e4827a-50a2-4052-cfa7-2101edbee178"
      },
      "execution_count": 42,
      "outputs": [
        {
          "output_type": "stream",
          "name": "stdout",
          "text": [
            "50.285714285714285\n"
          ]
        }
      ]
    },
    {
      "cell_type": "markdown",
      "source": [
        "Q.14 write a function that takes two lists and return their intersection"
      ],
      "metadata": {
        "id": "mor-rMMe4Hpv"
      }
    },
    {
      "cell_type": "code",
      "source": [
        "def list(a,b):\n",
        "  for i in a intersection i in b:\n",
        "    print(i)\n",
        "\n",
        "list([1,2,3],[2,3,4])"
      ],
      "metadata": {
        "id": "cOjI6T8O4Ksv",
        "colab": {
          "base_uri": "https://localhost:8080/",
          "height": 142
        },
        "outputId": "a14f6346-f3c3-4601-9ec6-4c34bcbb4139"
      },
      "execution_count": 113,
      "outputs": [
        {
          "output_type": "error",
          "ename": "SyntaxError",
          "evalue": "ignored",
          "traceback": [
            "\u001b[0;36m  File \u001b[0;32m\"<ipython-input-113-c56a83ec57e6>\"\u001b[0;36m, line \u001b[0;32m2\u001b[0m\n\u001b[0;31m    for i in a intersection i in b:\u001b[0m\n\u001b[0m               ^\u001b[0m\n\u001b[0;31mSyntaxError\u001b[0m\u001b[0;31m:\u001b[0m invalid syntax\n"
          ]
        }
      ]
    },
    {
      "cell_type": "markdown",
      "source": [
        "Q.15: add a new key value pair to an existing dictionary"
      ],
      "metadata": {
        "id": "o6p49VCT4LUp"
      }
    },
    {
      "cell_type": "code",
      "source": [
        "dictionary = {\"laptop\":\"a device\",\n",
        "              \"guitar\":\"an instrument\",\n",
        "              \"school\":\"a place to study\"}\n",
        "print(dictionary)\n",
        "print(dictionary.update({\"stadium\":\"a place for outdoor games\"}))\n",
        "print(dictionary)\n"
      ],
      "metadata": {
        "id": "tlVr8Xvq4OPp",
        "colab": {
          "base_uri": "https://localhost:8080/"
        },
        "outputId": "4ef2e023-2d7e-44ae-88d5-c82c06cb3df8"
      },
      "execution_count": 47,
      "outputs": [
        {
          "output_type": "stream",
          "name": "stdout",
          "text": [
            "{'laptop': 'a device', 'guitar': 'an instrument', 'school': 'a place to study'}\n",
            "None\n",
            "{'laptop': 'a device', 'guitar': 'an instrument', 'school': 'a place to study', 'stadium': 'a place for outdoor games'}\n"
          ]
        }
      ]
    },
    {
      "cell_type": "markdown",
      "source": [],
      "metadata": {
        "id": "CuMEG2xB4O1A"
      }
    },
    {
      "cell_type": "markdown",
      "source": [
        "Q.16: implement a program that uses inheritance to represent a hierarchy of shapes (circle, triangle, rectangle etc)"
      ],
      "metadata": {
        "id": "PQXse6-l4O6v"
      }
    },
    {
      "cell_type": "code",
      "source": [],
      "metadata": {
        "id": "fL6n2O4A4Sf0"
      },
      "execution_count": null,
      "outputs": []
    }
  ]
}