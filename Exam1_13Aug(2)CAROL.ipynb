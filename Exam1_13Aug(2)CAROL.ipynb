{
  "nbformat": 4,
  "nbformat_minor": 0,
  "metadata": {
    "colab": {
      "provenance": []
    },
    "kernelspec": {
      "name": "python3",
      "display_name": "Python 3"
    },
    "language_info": {
      "name": "python"
    }
  },
  "cells": [
    {
      "cell_type": "markdown",
      "source": [
        "Q.1: Convert temp from celcius to fahrenheit"
      ],
      "metadata": {
        "id": "a3W7Zh7B3Idq"
      }
    },
    {
      "cell_type": "code",
      "execution_count": 6,
      "metadata": {
        "id": "RDldub593HsN",
        "colab": {
          "base_uri": "https://localhost:8080/",
          "height": 229
        },
        "outputId": "dd40f623-7dd7-4fa4-9980-87e562c72957"
      },
      "outputs": [
        {
          "name": "stdout",
          "output_type": "stream",
          "text": [
            "Enter the temprature:22 c\n"
          ]
        },
        {
          "output_type": "error",
          "ename": "ValueError",
          "evalue": "ignored",
          "traceback": [
            "\u001b[0;31m---------------------------------------------------------------------------\u001b[0m",
            "\u001b[0;31mValueError\u001b[0m                                Traceback (most recent call last)",
            "\u001b[0;32m<ipython-input-6-90ccb38d6186>\u001b[0m in \u001b[0;36m<cell line: 1>\u001b[0;34m()\u001b[0m\n\u001b[0;32m----> 1\u001b[0;31m \u001b[0mtemp\u001b[0m\u001b[0;34m=\u001b[0m \u001b[0mint\u001b[0m\u001b[0;34m(\u001b[0m\u001b[0minput\u001b[0m\u001b[0;34m(\u001b[0m\u001b[0;34m'Enter the temprature:'\u001b[0m\u001b[0;34m)\u001b[0m\u001b[0;34m)\u001b[0m\u001b[0;34m\u001b[0m\u001b[0;34m\u001b[0m\u001b[0m\n\u001b[0m\u001b[1;32m      2\u001b[0m \u001b[0;32mif\u001b[0m \u001b[0mtemp\u001b[0m \u001b[0;34m==\u001b[0m\u001b[0mint\u001b[0m \u001b[0;34m+\u001b[0m \u001b[0;34m'c'\u001b[0m\u001b[0;34m:\u001b[0m\u001b[0;34m\u001b[0m\u001b[0;34m\u001b[0m\u001b[0m\n\u001b[1;32m      3\u001b[0m   \u001b[0mprint\u001b[0m\u001b[0;34m(\u001b[0m\u001b[0;34m'temp in fahrenheit= '\u001b[0m\u001b[0;34m,\u001b[0m\u001b[0mtemp\u001b[0m \u001b[0;34m*\u001b[0m\u001b[0;36m6\u001b[0m\u001b[0;34m)\u001b[0m\u001b[0;34m\u001b[0m\u001b[0;34m\u001b[0m\u001b[0m\n",
            "\u001b[0;31mValueError\u001b[0m: invalid literal for int() with base 10: '22 c'"
          ]
        }
      ],
      "source": [
        "def celcius_to_fahrenheit(celcius):\n",
        "  fahrenheit=(celcius * 9/5)+32"
      ]
    },
    {
      "cell_type": "markdown",
      "source": [
        "Q.2: Given list of integers and find sum of all positive numbers"
      ],
      "metadata": {
        "id": "FesLt5ny3QMv"
      }
    },
    {
      "cell_type": "code",
      "source": [
        "numbers = [5, -3, 10, -8, 7, 2, -1]\n",
        "\n",
        "positive_sum = 0\n",
        "for num in numbers:\n",
        "    if num > 0:\n",
        "        positive_sum += num\n",
        "\n",
        "print(\"Sum of positive numbers:\", positive_sum)\n"
      ],
      "metadata": {
        "id": "tBv69aiL3U-S",
        "colab": {
          "base_uri": "https://localhost:8080/"
        },
        "outputId": "808c41e2-18d5-4069-e77e-1503b7546cdc"
      },
      "execution_count": 7,
      "outputs": [
        {
          "output_type": "stream",
          "name": "stdout",
          "text": [
            "Sum of positive numbers: 24\n"
          ]
        }
      ]
    },
    {
      "cell_type": "markdown",
      "source": [
        "Q.3: write program to convert given number of days into years, weeks and days"
      ],
      "metadata": {
        "id": "qI-JUigu3Vvq"
      }
    },
    {
      "cell_type": "code",
      "source": [
        "def yearmonthweek(days):\n",
        "  year=days//365\n",
        "  days%=365\n",
        "  months=days//30\n",
        "  week=days//7\n",
        "  days %=30\n",
        "  return year, months ,days\n",
        "\n",
        "total_days=int(input('Enter no of days: '))\n",
        "years, months, days = yearmonthweek(total_days)\n",
        "print(f\"{total_days} days is equal to: {years} years, {months} months, and {days} days\")"
      ],
      "metadata": {
        "id": "krx-lnkg3aXf",
        "colab": {
          "base_uri": "https://localhost:8080/"
        },
        "outputId": "db8b68a9-889d-4195-b162-cf63df928a66"
      },
      "execution_count": 16,
      "outputs": [
        {
          "output_type": "stream",
          "name": "stdout",
          "text": [
            "Enter no of days: 130\n",
            "130 days is equal to: 0 years, 4 months, and 10 days\n"
          ]
        }
      ]
    },
    {
      "cell_type": "markdown",
      "source": [
        "Q.4: Given list of numbers find maximum and minimum values"
      ],
      "metadata": {
        "id": "IStRz9Lq3bNj"
      }
    },
    {
      "cell_type": "code",
      "source": [
        "import math\n",
        "a=[1,2,3,4,5,6]\n",
        "max_num=max(a)\n",
        "print('the max num is ',max_num)\n",
        "min_num=min(a)\n",
        "print(min_num,'is the min number')\n"
      ],
      "metadata": {
        "id": "RpYrB2LW3ey-",
        "colab": {
          "base_uri": "https://localhost:8080/"
        },
        "outputId": "033e1f83-683a-40a4-ba05-edde0834bcea"
      },
      "execution_count": 21,
      "outputs": [
        {
          "output_type": "stream",
          "name": "stdout",
          "text": [
            "the max num is  6\n",
            "1 is the min number\n"
          ]
        }
      ]
    },
    {
      "cell_type": "markdown",
      "source": [
        "Q.5: Create a list of fruits and access element using indexing"
      ],
      "metadata": {
        "id": "3FP7AZU93fe7"
      }
    },
    {
      "cell_type": "code",
      "source": [
        "a=['apple','banana','strawberry']\n",
        "print(a[1])\n",
        "print(a[0:])\n",
        "print(a[-1])"
      ],
      "metadata": {
        "id": "dazfNBYO3jH-",
        "colab": {
          "base_uri": "https://localhost:8080/"
        },
        "outputId": "7c4cb884-0596-4bba-e71b-7fcaadf3167e"
      },
      "execution_count": 24,
      "outputs": [
        {
          "output_type": "stream",
          "name": "stdout",
          "text": [
            "banana\n",
            "['apple', 'banana', 'strawberry']\n",
            "strawberry\n"
          ]
        }
      ]
    },
    {
      "cell_type": "markdown",
      "source": [
        "Q.6: Create a function to cound number of vowels in a given string"
      ],
      "metadata": {
        "id": "KEY45AUE3k7L"
      }
    },
    {
      "cell_type": "code",
      "source": [
        "def vowels(word):\n",
        "  vowels=\"AEIOUaeiou\"\n",
        "  vowel_count=0\n",
        "  for char in word:\n",
        "    if char in vowels:\n",
        "      vowel_count=+1\n",
        "      return vowel_count\n"
      ],
      "metadata": {
        "id": "APBPsM1R3pYT"
      },
      "execution_count": 25,
      "outputs": []
    },
    {
      "cell_type": "markdown",
      "source": [
        "Q. 7: Given list of names, concatenate them into single string seperated by spaces"
      ],
      "metadata": {
        "id": "aJQRjlj33pzi"
      }
    },
    {
      "cell_type": "code",
      "source": [
        "list=['carol','bibek','rumansir','sushil']\n",
        "split_name=[name.split()for name in list]\n",
        "print(split_name)\n",
        "\n"
      ],
      "metadata": {
        "id": "96hAelCj3tJk",
        "colab": {
          "base_uri": "https://localhost:8080/"
        },
        "outputId": "6957ad19-206e-403c-c06a-29ae250114ca"
      },
      "execution_count": 33,
      "outputs": [
        {
          "output_type": "stream",
          "name": "stdout",
          "text": [
            "[['carol'], ['bibek'], ['rumansir'], ['sushil']]\n"
          ]
        }
      ]
    },
    {
      "cell_type": "markdown",
      "source": [
        "Q. 8: Create a function to reverse a given string"
      ],
      "metadata": {
        "id": "Vs-AHhq33tv-"
      }
    },
    {
      "cell_type": "code",
      "source": [
        "a= 'hello there'\n",
        "print(a[0::])\n",
        "print(a[::-1])"
      ],
      "metadata": {
        "id": "77MV5lWf3xn1",
        "colab": {
          "base_uri": "https://localhost:8080/"
        },
        "outputId": "63321b87-95f8-4a35-e73f-74ce3f203485"
      },
      "execution_count": 39,
      "outputs": [
        {
          "output_type": "stream",
          "name": "stdout",
          "text": [
            "hello there\n",
            "ereht olleh\n"
          ]
        }
      ]
    },
    {
      "cell_type": "markdown",
      "source": [
        "Q.9: Create a loop that prints first 10 even numbers"
      ],
      "metadata": {
        "id": "pKD-J6NF3yLn"
      }
    },
    {
      "cell_type": "code",
      "source": [
        "i=range(1,25)\n",
        "count=0\n",
        "for num in i:\n",
        "  if num%2==0:\n",
        "    print(num)\n",
        "    count=+1\n",
        "    if count==10:\n",
        "      break\n",
        "print('BRAKE HERE')\n",
        "even_count = 0\n",
        "for num in range(2, 26, 2):\n",
        "    print(num)\n",
        "    even_count += 1\n",
        "    if even_count == 10:\n",
        "        break"
      ],
      "metadata": {
        "id": "FdVBxjqW314f",
        "colab": {
          "base_uri": "https://localhost:8080/",
          "height": 247
        },
        "outputId": "bea5599a-83f8-445f-cab4-152dfc6b4c59"
      },
      "execution_count": 105,
      "outputs": [
        {
          "output_type": "error",
          "ename": "TypeError",
          "evalue": "ignored",
          "traceback": [
            "\u001b[0;31m---------------------------------------------------------------------------\u001b[0m",
            "\u001b[0;31mTypeError\u001b[0m                                 Traceback (most recent call last)",
            "\u001b[0;32m<ipython-input-105-9881e4b94dd9>\u001b[0m in \u001b[0;36m<cell line: 1>\u001b[0;34m()\u001b[0m\n\u001b[0;32m----> 1\u001b[0;31m \u001b[0mi\u001b[0m\u001b[0;34m=\u001b[0m\u001b[0mrange\u001b[0m\u001b[0;34m(\u001b[0m\u001b[0;36m1\u001b[0m\u001b[0;34m,\u001b[0m\u001b[0;36m25\u001b[0m\u001b[0;34m)\u001b[0m\u001b[0;34m\u001b[0m\u001b[0;34m\u001b[0m\u001b[0m\n\u001b[0m\u001b[1;32m      2\u001b[0m \u001b[0mcount\u001b[0m\u001b[0;34m=\u001b[0m\u001b[0;36m0\u001b[0m\u001b[0;34m\u001b[0m\u001b[0;34m\u001b[0m\u001b[0m\n\u001b[1;32m      3\u001b[0m \u001b[0;32mfor\u001b[0m \u001b[0mnum\u001b[0m \u001b[0;32min\u001b[0m \u001b[0mi\u001b[0m\u001b[0;34m:\u001b[0m\u001b[0;34m\u001b[0m\u001b[0;34m\u001b[0m\u001b[0m\n\u001b[1;32m      4\u001b[0m   \u001b[0;32mif\u001b[0m \u001b[0mnum\u001b[0m\u001b[0;34m%\u001b[0m\u001b[0;36m2\u001b[0m\u001b[0;34m==\u001b[0m\u001b[0;36m0\u001b[0m\u001b[0;34m:\u001b[0m\u001b[0;34m\u001b[0m\u001b[0;34m\u001b[0m\u001b[0m\n\u001b[1;32m      5\u001b[0m     \u001b[0mprint\u001b[0m\u001b[0;34m(\u001b[0m\u001b[0mnum\u001b[0m\u001b[0;34m)\u001b[0m\u001b[0;34m\u001b[0m\u001b[0;34m\u001b[0m\u001b[0m\n",
            "\u001b[0;31mTypeError\u001b[0m: 'tuple' object is not callable"
          ]
        }
      ]
    },
    {
      "cell_type": "markdown",
      "source": [
        "Q.10: Given list of names, print all names starting with letter A"
      ],
      "metadata": {
        "id": "3uMj2v4m32Zq"
      }
    },
    {
      "cell_type": "code",
      "source": [
        "name=['Carol','Bibek','Acharya']\n",
        "for n in name:\n",
        "  if n.startswith('A'):\n",
        "    print(f'{n} startswith A')"
      ],
      "metadata": {
        "id": "MSdXfdxx37hw",
        "colab": {
          "base_uri": "https://localhost:8080/"
        },
        "outputId": "953e5b75-50f5-46b0-98c6-6bcc1d8b5d78"
      },
      "execution_count": 65,
      "outputs": [
        {
          "output_type": "stream",
          "name": "stdout",
          "text": [
            "Acharya startswith A\n"
          ]
        }
      ]
    },
    {
      "cell_type": "markdown",
      "source": [
        "Q. 11: Implement a program that prints multiplication table of a given number"
      ],
      "metadata": {
        "id": "c5nea-Bf38iX"
      }
    },
    {
      "cell_type": "code",
      "source": [
        "number = int(input(\"Enter a number for the multiplication table: \"))\n",
        "\n",
        "for i in range(1, 11):\n",
        "  product = number * i\n",
        "  print(f\"{number} x {i} = {product}\")"
      ],
      "metadata": {
        "id": "T10_Mtmn4AGE",
        "colab": {
          "base_uri": "https://localhost:8080/",
          "height": 264
        },
        "outputId": "d978a241-21fa-4ba1-884d-b69604455873"
      },
      "execution_count": 106,
      "outputs": [
        {
          "name": "stdout",
          "output_type": "stream",
          "text": [
            "Enter a number for the multiplication table: 22\n"
          ]
        },
        {
          "output_type": "error",
          "ename": "TypeError",
          "evalue": "ignored",
          "traceback": [
            "\u001b[0;31m---------------------------------------------------------------------------\u001b[0m",
            "\u001b[0;31mTypeError\u001b[0m                                 Traceback (most recent call last)",
            "\u001b[0;32m<ipython-input-106-efaebbed54f5>\u001b[0m in \u001b[0;36m<cell line: 3>\u001b[0;34m()\u001b[0m\n\u001b[1;32m      1\u001b[0m \u001b[0mnumber\u001b[0m \u001b[0;34m=\u001b[0m \u001b[0mint\u001b[0m\u001b[0;34m(\u001b[0m\u001b[0minput\u001b[0m\u001b[0;34m(\u001b[0m\u001b[0;34m\"Enter a number for the multiplication table: \"\u001b[0m\u001b[0;34m)\u001b[0m\u001b[0;34m)\u001b[0m\u001b[0;34m\u001b[0m\u001b[0;34m\u001b[0m\u001b[0m\n\u001b[1;32m      2\u001b[0m \u001b[0;34m\u001b[0m\u001b[0m\n\u001b[0;32m----> 3\u001b[0;31m \u001b[0;32mfor\u001b[0m \u001b[0mi\u001b[0m \u001b[0;32min\u001b[0m \u001b[0mrange\u001b[0m\u001b[0;34m(\u001b[0m\u001b[0;36m1\u001b[0m\u001b[0;34m,\u001b[0m \u001b[0;36m11\u001b[0m\u001b[0;34m)\u001b[0m\u001b[0;34m:\u001b[0m\u001b[0;34m\u001b[0m\u001b[0;34m\u001b[0m\u001b[0m\n\u001b[0m\u001b[1;32m      4\u001b[0m   \u001b[0mproduct\u001b[0m \u001b[0;34m=\u001b[0m \u001b[0mnumber\u001b[0m \u001b[0;34m*\u001b[0m \u001b[0mi\u001b[0m\u001b[0;34m\u001b[0m\u001b[0;34m\u001b[0m\u001b[0m\n\u001b[1;32m      5\u001b[0m   \u001b[0mprint\u001b[0m\u001b[0;34m(\u001b[0m\u001b[0;34mf\"{number} x {i} = {product}\"\u001b[0m\u001b[0;34m)\u001b[0m\u001b[0;34m\u001b[0m\u001b[0;34m\u001b[0m\u001b[0m\n",
            "\u001b[0;31mTypeError\u001b[0m: 'tuple' object is not callable"
          ]
        }
      ]
    },
    {
      "cell_type": "markdown",
      "source": [
        "Q.12: Given list of words, count the number of words with more than five characters"
      ],
      "metadata": {
        "id": "Zi0639MR4AeQ"
      }
    },
    {
      "cell_type": "code",
      "source": [
        "def count_words_with_more_than_five_characters(word_list):\n",
        "    count = 0\n",
        "    for word in word_list:\n",
        "        if len(word) > 5:\n",
        "            count += 1\n",
        "    return count\n",
        "words = [\"apple\", \"banana\", \"watermelon\",\"pineapple\",\"orange\"]\n",
        "\n",
        "num_words = count_words_with_more_than_five_characters(words)\n",
        "print(f\"The number of words with more than five characters is: {num_words}\")\n"
      ],
      "metadata": {
        "id": "scoGZlAT4Fai",
        "colab": {
          "base_uri": "https://localhost:8080/"
        },
        "outputId": "ded9d3a2-15db-4115-f25a-2cd5353412c5"
      },
      "execution_count": 92,
      "outputs": [
        {
          "output_type": "stream",
          "name": "stdout",
          "text": [
            "The number of words with more than five characters is: 4\n"
          ]
        }
      ]
    },
    {
      "cell_type": "markdown",
      "source": [
        "Q.13: write a function to calculate area of circle given its radius"
      ],
      "metadata": {
        "id": "3RPHEsZ84F0-"
      }
    },
    {
      "cell_type": "code",
      "source": [
        "def calculate_radius_from_diameter(diameter):\n",
        "    radius = diameter / 2\n",
        "    return radius\n",
        "diameter = float(input(\"Enter the diameter of the circle: \"))\n",
        "radius = calculate_radius_from_diameter(diameter)\n",
        "print(f\"The radius of the circle is: {radius}\")"
      ],
      "metadata": {
        "id": "oBYlxTZn4G6U",
        "colab": {
          "base_uri": "https://localhost:8080/"
        },
        "outputId": "35fca45b-7e72-4443-eea9-cb3ffd802009"
      },
      "execution_count": 90,
      "outputs": [
        {
          "output_type": "stream",
          "name": "stdout",
          "text": [
            "Enter the diameter of the circle: 22\n",
            "The radius of the circle is: 11.0\n"
          ]
        }
      ]
    },
    {
      "cell_type": "markdown",
      "source": [
        "Q.14 write a function that takes two lists and return their intersection"
      ],
      "metadata": {
        "id": "mor-rMMe4Hpv"
      }
    },
    {
      "cell_type": "code",
      "source": [
        "def find_intersection(list1,list2):\n",
        "\n",
        "  intersection=list(set(list1) & set(list2))\n",
        "  return intersection\n",
        "list1=['apple','ball','dog']\n",
        "list2=['apple','big','hero']\n",
        "intersection_result=find_intersection(list1,list2)\n",
        "print(intersection_result)\n",
        ""
      ],
      "metadata": {
        "id": "cOjI6T8O4Ksv",
        "colab": {
          "base_uri": "https://localhost:8080/",
          "height": 368
        },
        "outputId": "85d7c579-db0d-4d03-cf00-2f63688d0f94"
      },
      "execution_count": 99,
      "outputs": [
        {
          "output_type": "error",
          "ename": "TypeError",
          "evalue": "ignored",
          "traceback": [
            "\u001b[0;31m---------------------------------------------------------------------------\u001b[0m",
            "\u001b[0;31mTypeError\u001b[0m                                 Traceback (most recent call last)",
            "\u001b[0;32m<ipython-input-99-4b095882691f>\u001b[0m in \u001b[0;36m<cell line: 7>\u001b[0;34m()\u001b[0m\n\u001b[1;32m      5\u001b[0m \u001b[0mlist1\u001b[0m\u001b[0;34m=\u001b[0m\u001b[0;34m[\u001b[0m\u001b[0;34m'apple'\u001b[0m\u001b[0;34m,\u001b[0m\u001b[0;34m'ball'\u001b[0m\u001b[0;34m,\u001b[0m\u001b[0;34m'dog'\u001b[0m\u001b[0;34m]\u001b[0m\u001b[0;34m\u001b[0m\u001b[0;34m\u001b[0m\u001b[0m\n\u001b[1;32m      6\u001b[0m \u001b[0mlist2\u001b[0m\u001b[0;34m=\u001b[0m\u001b[0;34m[\u001b[0m\u001b[0;34m'apple'\u001b[0m\u001b[0;34m,\u001b[0m\u001b[0;34m'big'\u001b[0m\u001b[0;34m,\u001b[0m\u001b[0;34m'hero'\u001b[0m\u001b[0;34m]\u001b[0m\u001b[0;34m\u001b[0m\u001b[0;34m\u001b[0m\u001b[0m\n\u001b[0;32m----> 7\u001b[0;31m \u001b[0mintersection_result\u001b[0m\u001b[0;34m=\u001b[0m\u001b[0mfind_intersection\u001b[0m\u001b[0;34m(\u001b[0m\u001b[0mlist1\u001b[0m\u001b[0;34m,\u001b[0m\u001b[0mlist2\u001b[0m\u001b[0;34m)\u001b[0m\u001b[0;34m\u001b[0m\u001b[0;34m\u001b[0m\u001b[0m\n\u001b[0m\u001b[1;32m      8\u001b[0m \u001b[0mprint\u001b[0m\u001b[0;34m(\u001b[0m\u001b[0mintersection_result\u001b[0m\u001b[0;34m)\u001b[0m\u001b[0;34m\u001b[0m\u001b[0;34m\u001b[0m\u001b[0m\n\u001b[1;32m      9\u001b[0m \u001b[0;34m\u001b[0m\u001b[0m\n",
            "\u001b[0;32m<ipython-input-99-4b095882691f>\u001b[0m in \u001b[0;36mfind_intersection\u001b[0;34m(list1, list2)\u001b[0m\n\u001b[1;32m      1\u001b[0m \u001b[0;32mdef\u001b[0m \u001b[0mfind_intersection\u001b[0m\u001b[0;34m(\u001b[0m\u001b[0mlist1\u001b[0m\u001b[0;34m,\u001b[0m\u001b[0mlist2\u001b[0m\u001b[0;34m)\u001b[0m\u001b[0;34m:\u001b[0m\u001b[0;34m\u001b[0m\u001b[0;34m\u001b[0m\u001b[0m\n\u001b[1;32m      2\u001b[0m \u001b[0;34m\u001b[0m\u001b[0m\n\u001b[0;32m----> 3\u001b[0;31m   \u001b[0mintersection\u001b[0m\u001b[0;34m=\u001b[0m\u001b[0mlist\u001b[0m\u001b[0;34m(\u001b[0m\u001b[0mset\u001b[0m\u001b[0;34m(\u001b[0m\u001b[0mlist1\u001b[0m\u001b[0;34m)\u001b[0m \u001b[0;34m&\u001b[0m \u001b[0mset\u001b[0m\u001b[0;34m(\u001b[0m\u001b[0mlist2\u001b[0m\u001b[0;34m)\u001b[0m\u001b[0;34m)\u001b[0m\u001b[0;34m\u001b[0m\u001b[0;34m\u001b[0m\u001b[0m\n\u001b[0m\u001b[1;32m      4\u001b[0m   \u001b[0;32mreturn\u001b[0m \u001b[0mintersection\u001b[0m\u001b[0;34m\u001b[0m\u001b[0;34m\u001b[0m\u001b[0m\n\u001b[1;32m      5\u001b[0m \u001b[0mlist1\u001b[0m\u001b[0;34m=\u001b[0m\u001b[0;34m[\u001b[0m\u001b[0;34m'apple'\u001b[0m\u001b[0;34m,\u001b[0m\u001b[0;34m'ball'\u001b[0m\u001b[0;34m,\u001b[0m\u001b[0;34m'dog'\u001b[0m\u001b[0;34m]\u001b[0m\u001b[0;34m\u001b[0m\u001b[0;34m\u001b[0m\u001b[0m\n",
            "\u001b[0;31mTypeError\u001b[0m: 'list' object is not callable"
          ]
        }
      ]
    },
    {
      "cell_type": "markdown",
      "source": [
        "Q.15: add a new key value pair to an existing dictionary"
      ],
      "metadata": {
        "id": "o6p49VCT4LUp"
      }
    },
    {
      "cell_type": "code",
      "source": [
        "my_dict = {\"name\": \"John\", \"age\": 30}\n",
        "print(my_dict)\n",
        "\n",
        "my_dict[\"city\"] = \"New city\"\n",
        "\n",
        "print(my_dict)"
      ],
      "metadata": {
        "id": "tlVr8Xvq4OPp",
        "colab": {
          "base_uri": "https://localhost:8080/"
        },
        "outputId": "8dffafc4-c745-4d89-d72c-ba01ca12a4ca"
      },
      "execution_count": 101,
      "outputs": [
        {
          "output_type": "stream",
          "name": "stdout",
          "text": [
            "{'name': 'John', 'age': 30}\n",
            "{'name': 'John', 'age': 30, 'city': 'New city'}\n"
          ]
        }
      ]
    },
    {
      "cell_type": "markdown",
      "source": [],
      "metadata": {
        "id": "CuMEG2xB4O1A"
      }
    },
    {
      "cell_type": "markdown",
      "source": [
        "Q.16: implement a program that uses inheritance to represent a hierarchy of shapes (circle, triangle, rectangle etc)"
      ],
      "metadata": {
        "id": "PQXse6-l4O6v"
      }
    },
    {
      "cell_type": "code",
      "source": [
        "def rectangle(length,breadth):\n",
        "  area=length*breadth\n",
        "  return area\n",
        "rectangle(2,4)\n"
      ],
      "metadata": {
        "id": "fL6n2O4A4Sf0",
        "colab": {
          "base_uri": "https://localhost:8080/"
        },
        "outputId": "789215c2-0304-45e5-bfbe-6a77b1fb2055"
      },
      "execution_count": 82,
      "outputs": [
        {
          "output_type": "execute_result",
          "data": {
            "text/plain": [
              "8"
            ]
          },
          "metadata": {},
          "execution_count": 82
        }
      ]
    }
  ]
}