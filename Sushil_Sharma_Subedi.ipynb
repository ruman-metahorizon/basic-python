{
  "cells": [
    {
      "cell_type": "markdown",
      "metadata": {
        "id": "a3W7Zh7B3Idq"
      },
      "source": [
        "Q.1: Convert temp from celcius to fahrenheit"
      ]
    },
    {
      "cell_type": "code",
      "execution_count": null,
      "metadata": {
        "colab": {
          "base_uri": "https://localhost:8080/"
        },
        "id": "RDldub593HsN",
        "outputId": "0e720482-61ee-47d9-a7ce-89d476c56fd1"
      },
      "outputs": [
        {
          "name": "stdout",
          "output_type": "stream",
          "text": [
            "Enter Celcius: 0\n",
            "0.0 degree celcius is equal to 32.0 degree fahrenheit\n"
          ]
        }
      ],
      "source": [
        "def convert_to_fahrenheit(celcius):\n",
        "    fahrenheit = (celcius*(9/5)+32)\n",
        "    print(f'{celcius} degree celcius is equal to {fahrenheit} degree fahrenheit')\n",
        "\n",
        "convert_to_fahrenheit(float(input(\"Enter Celcius: \")))"
      ]
    },
    {
      "cell_type": "markdown",
      "metadata": {
        "id": "FesLt5ny3QMv"
      },
      "source": [
        "Q.2: Given list of integers and find sum of all positive numbers"
      ]
    },
    {
      "cell_type": "code",
      "execution_count": null,
      "metadata": {
        "colab": {
          "base_uri": "https://localhost:8080/"
        },
        "id": "tBv69aiL3U-S",
        "outputId": "069d26d0-3a0f-419b-c70b-26b0a482e131"
      },
      "outputs": [
        {
          "name": "stdout",
          "output_type": "stream",
          "text": [
            "The sum of the positive numbers is 20\n"
          ]
        }
      ],
      "source": [
        "def sum_for_positive_numbers(numbers):\n",
        "    positive_sum = 0\n",
        "    for i in numbers:\n",
        "        if i > 0:\n",
        "            positive_sum += i\n",
        "    return positive_sum\n",
        "\n",
        "int_list = [5,10,5,-5,-7]\n",
        "positive_sum = sum_for_positive_numbers(int_list)\n",
        "\n",
        "print(f'The sum of the positive numbers is {positive_sum}')"
      ]
    },
    {
      "cell_type": "markdown",
      "metadata": {
        "id": "qI-JUigu3Vvq"
      },
      "source": [
        "Q.3: write program to convert given number of days into years, weeks and days"
      ]
    },
    {
      "cell_type": "code",
      "execution_count": null,
      "metadata": {
        "colab": {
          "base_uri": "https://localhost:8080/"
        },
        "id": "krx-lnkg3aXf",
        "outputId": "2942d193-367c-4e5b-c2cc-56a80b08db75"
      },
      "outputs": [
        {
          "name": "stdout",
          "output_type": "stream",
          "text": [
            "Enter the number of days: 50000\n",
            "50000 days is equal to:\n",
            "136 years, 51 weeks, and 3 days\n"
          ]
        }
      ],
      "source": [
        "def convert_days_to_years_weeks_days(days):\n",
        "    years = days // 365\n",
        "    days %= 365\n",
        "    weeks = days // 7\n",
        "    days %= 7\n",
        "    return years, weeks, days\n",
        "\n",
        "total_days = int(input(\"Enter the number of days: \"))\n",
        "\n",
        "years, weeks, remaining_days = convert_days_to_years_weeks_days(total_days)\n",
        "\n",
        "print(f\"{total_days} days is equal to:\")\n",
        "print(f\"{years} years, {weeks} weeks, and {remaining_days} days\")"
      ]
    },
    {
      "cell_type": "markdown",
      "metadata": {
        "id": "IStRz9Lq3bNj"
      },
      "source": [
        "Q.4: Given list of numbers find maximum and minimum values"
      ]
    },
    {
      "cell_type": "code",
      "execution_count": null,
      "metadata": {
        "colab": {
          "base_uri": "https://localhost:8080/"
        },
        "id": "RpYrB2LW3ey-",
        "outputId": "510903f9-1bf4-4ac9-e1e6-c8a85cb79939"
      },
      "outputs": [
        {
          "name": "stdout",
          "output_type": "stream",
          "text": [
            "Maximum value is 32\n",
            "Minimum value is 7\n"
          ]
        }
      ],
      "source": [
        "def find_max_min_numbers(numbers):\n",
        "    if len(numbers) == 0:\n",
        "        return None, None\n",
        "\n",
        "    maximum = numbers[0]\n",
        "    minimum = numbers[0]\n",
        "\n",
        "    for num in numbers:\n",
        "        if num > maximum:\n",
        "            maximum = num\n",
        "        if num < minimum:\n",
        "            minimum = num\n",
        "\n",
        "    return maximum, minimum\n",
        "number_list = [20,25,7,8,32]\n",
        "\n",
        "maximum, minimum = find_max_min_numbers(number_list)\n",
        "\n",
        "print(f\"Maximum value is {maximum}\")\n",
        "print(f\"Minimum value is {minimum}\")"
      ]
    },
    {
      "cell_type": "markdown",
      "metadata": {
        "id": "3FP7AZU93fe7"
      },
      "source": [
        "Q.5: Create a list of fruits and access element using indexing"
      ]
    },
    {
      "cell_type": "code",
      "execution_count": 2,
      "metadata": {
        "colab": {
          "base_uri": "https://localhost:8080/"
        },
        "id": "dazfNBYO3jH-",
        "outputId": "862b9ddc-ab15-4e76-c4be-13a9efd33eea"
      },
      "outputs": [
        {
          "output_type": "stream",
          "name": "stdout",
          "text": [
            "Invalid Index number\n"
          ]
        }
      ],
      "source": [
        "def elements_index(index):\n",
        "  fruits=['Apple','Banana','Orange','Watermelon']\n",
        "  if index <= len(fruits):\n",
        "    index_fruits=fruits[index]\n",
        "    return index_fruits\n",
        "  else:\n",
        "    print('Invalid Index number')\n",
        "\n",
        "elements_index(5)\n"
      ]
    },
    {
      "cell_type": "markdown",
      "metadata": {
        "id": "KEY45AUE3k7L"
      },
      "source": [
        "Q.6: Create a function to cound number of vowels in a given string"
      ]
    },
    {
      "cell_type": "code",
      "execution_count": null,
      "metadata": {
        "colab": {
          "base_uri": "https://localhost:8080/"
        },
        "id": "APBPsM1R3pYT",
        "outputId": "dec2fdda-ae50-4000-89f7-26c9391839b4"
      },
      "outputs": [
        {
          "name": "stdout",
          "output_type": "stream",
          "text": [
            "Enter a string: Sushil\n",
            "Number of vowels in the string: 2\n"
          ]
        }
      ],
      "source": [
        "def count_vowels(input_string):\n",
        "    vowels = \"aeiouAEIOU\"\n",
        "    vowel_count = 0\n",
        "\n",
        "    for char in input_string:\n",
        "        if char in vowels:\n",
        "            vowel_count += 1\n",
        "\n",
        "    return vowel_count\n",
        "\n",
        "text = input(\"Enter a string: \")\n",
        "\n",
        "vowel_count = count_vowels(text)\n",
        "print(f\"Number of vowels in the string: {vowel_count}\")\n"
      ]
    },
    {
      "cell_type": "markdown",
      "metadata": {
        "id": "aJQRjlj33pzi"
      },
      "source": [
        "Q. 7: Given list of names, concatenate them into single string seperated by spaces"
      ]
    },
    {
      "cell_type": "code",
      "execution_count": null,
      "metadata": {
        "colab": {
          "base_uri": "https://localhost:8080/"
        },
        "id": "96hAelCj3tJk",
        "outputId": "c8c41a74-e53e-452b-bbf2-43d917199f78"
      },
      "outputs": [
        {
          "name": "stdout",
          "output_type": "stream",
          "text": [
            "Sushil Carol Abhishek Balram Sabin Bibek\n",
            "<class 'str'>\n"
          ]
        }
      ],
      "source": [
        "names = [\"Sushil\", \"Carol\", \"Abhishek\", \"Balram\", \"Sabin\",'Bibek']\n",
        "concatenated_names = \" \".join(names)\n",
        "\n",
        "print (concatenated_names)\n",
        "print(type(concatenated_names))"
      ]
    },
    {
      "cell_type": "markdown",
      "metadata": {
        "id": "Vs-AHhq33tv-"
      },
      "source": [
        "Q. 8: Create a function to reverse a given string"
      ]
    },
    {
      "cell_type": "code",
      "execution_count": null,
      "metadata": {
        "colab": {
          "base_uri": "https://localhost:8080/"
        },
        "id": "77MV5lWf3xn1",
        "outputId": "bb8fa48c-03d6-4516-982b-22dfd994cb83"
      },
      "outputs": [
        {
          "name": "stdout",
          "output_type": "stream",
          "text": [
            "lihsuS\n"
          ]
        }
      ],
      "source": [
        "def reverse_string(word):\n",
        "  reversed=word[::-1]\n",
        "  print(reversed)\n",
        "\n",
        "reverse_string('Sushil')"
      ]
    },
    {
      "cell_type": "markdown",
      "metadata": {
        "id": "pKD-J6NF3yLn"
      },
      "source": [
        "Q.9: Create a loop that prints first 10 even numbers"
      ]
    },
    {
      "cell_type": "code",
      "execution_count": null,
      "metadata": {
        "colab": {
          "base_uri": "https://localhost:8080/"
        },
        "id": "FdVBxjqW314f",
        "outputId": "34198b7a-2fc1-4898-934a-15d8ff2d572c"
      },
      "outputs": [
        {
          "name": "stdout",
          "output_type": "stream",
          "text": [
            "2\n",
            "4\n",
            "6\n",
            "8\n",
            "10\n",
            "12\n",
            "14\n",
            "16\n",
            "18\n",
            "20\n"
          ]
        }
      ],
      "source": [
        "for i in range(20):\n",
        "  i+=1\n",
        "  if i%2==0:\n",
        "    print(i)\n"
      ]
    },
    {
      "cell_type": "markdown",
      "metadata": {
        "id": "3uMj2v4m32Zq"
      },
      "source": [
        "Q.10: Given list of names, print all names starting with letter A"
      ]
    },
    {
      "cell_type": "code",
      "execution_count": null,
      "metadata": {
        "colab": {
          "base_uri": "https://localhost:8080/"
        },
        "id": "MSdXfdxx37hw",
        "outputId": "dc27af21-b072-487c-a846-005d5f8c0e02"
      },
      "outputs": [
        {
          "name": "stdout",
          "output_type": "stream",
          "text": [
            "Aman\n",
            "Aakash\n",
            "Abhishek\n"
          ]
        }
      ],
      "source": [
        "names = ['Aman','Aakash','Sushil','Ruman','Abhishek','Carol']\n",
        "\n",
        "for name in names:\n",
        "    if name[0] =='A' or name[0]=='a':\n",
        "        print(name)"
      ]
    },
    {
      "cell_type": "markdown",
      "metadata": {
        "id": "c5nea-Bf38iX"
      },
      "source": [
        "Q. 11: Implement a program that prints multiplication table of a given number"
      ]
    },
    {
      "cell_type": "code",
      "execution_count": null,
      "metadata": {
        "colab": {
          "base_uri": "https://localhost:8080/"
        },
        "id": "T10_Mtmn4AGE",
        "outputId": "7e1023d2-4e3d-432b-c99b-1ac2fc9380fe"
      },
      "outputs": [
        {
          "name": "stdout",
          "output_type": "stream",
          "text": [
            "Enter the number whose multiplication table you want: 10\n",
            "Enter the number till where you want the multiplication table: 15\n",
            "10 * 1 = 10\n",
            "10 * 2 = 20\n",
            "10 * 3 = 30\n",
            "10 * 4 = 40\n",
            "10 * 5 = 50\n",
            "10 * 6 = 60\n",
            "10 * 7 = 70\n",
            "10 * 8 = 80\n",
            "10 * 9 = 90\n",
            "10 * 10 = 100\n",
            "10 * 11 = 110\n",
            "10 * 12 = 120\n",
            "10 * 13 = 130\n",
            "10 * 14 = 140\n",
            "10 * 15 = 150\n"
          ]
        }
      ],
      "source": [
        "\n",
        "def multiplication_table(num):\n",
        "  j=int(input(\"Enter the number till where you want the multiplication table: \"))\n",
        "  for i in range(j):\n",
        "    i+=1\n",
        "    print(f'{num} * {i} = {i*num}')\n",
        "\n",
        "multiplication_table(int(input(\"Enter the number whose multiplication table you want: \")))"
      ]
    },
    {
      "cell_type": "markdown",
      "metadata": {
        "id": "Zi0639MR4AeQ"
      },
      "source": [
        "Q.12: Given list of words, count the number of words with more than five characters"
      ]
    },
    {
      "cell_type": "code",
      "execution_count": 4,
      "metadata": {
        "colab": {
          "base_uri": "https://localhost:8080/"
        },
        "id": "scoGZlAT4Fai",
        "outputId": "e1dbd811-78f6-4b63-eef9-4bbd15feba17"
      },
      "outputs": [
        {
          "output_type": "stream",
          "name": "stdout",
          "text": [
            "Enter the word: sush\n",
            "There is less than 5 characters in the word and the total count for the characters is 4 and the required characters to be 5 is 1\n"
          ]
        }
      ],
      "source": [
        "def count_words(words):\n",
        "  if len(words) > 5:\n",
        "    print(f'There is more than 5 characters in the word and the total count for the characters is {len(words)} and the excess character than 5 is {len(words)-5}')\n",
        "  elif len(words) == 5 :\n",
        "    print('There is exactly 5 characters in the word')\n",
        "  else:\n",
        "    print(f'There is less than 5 characters in the word and the total count for the characters is {len(words)} and the required characters to be 5 is {5-len(words)}')\n",
        "\n",
        "count_words(input(\"Enter the word: \"))"
      ]
    },
    {
      "cell_type": "markdown",
      "metadata": {
        "id": "3RPHEsZ84F0-"
      },
      "source": [
        "Q.13: write a function to calculate area of circle given its radius"
      ]
    },
    {
      "cell_type": "code",
      "execution_count": null,
      "metadata": {
        "colab": {
          "base_uri": "https://localhost:8080/"
        },
        "id": "oBYlxTZn4G6U",
        "outputId": "956f1676-4ed7-4297-e920-a98b7b615674"
      },
      "outputs": [
        {
          "name": "stdout",
          "output_type": "stream",
          "text": [
            "Enter the Radius of the circle in cm: 10\n",
            "The area for a circle with the radius 10.0 is 314.1592653589793\n"
          ]
        }
      ],
      "source": [
        "from math import pi\n",
        "def radius_circle(r):\n",
        "  area = pi*r**2\n",
        "  print(f'The area for a circle with the radius {r} is {area}')\n",
        "\n",
        "radius_circle(float(input(\"Enter the Radius of the circle in cm: \")))"
      ]
    },
    {
      "cell_type": "markdown",
      "metadata": {
        "id": "mor-rMMe4Hpv"
      },
      "source": [
        "Q.14 write a function that takes two lists and return their intersection"
      ]
    },
    {
      "cell_type": "code",
      "execution_count": null,
      "metadata": {
        "colab": {
          "base_uri": "https://localhost:8080/"
        },
        "id": "cOjI6T8O4Ksv",
        "outputId": "32c76422-13ce-46ce-85eb-338a41ad9c35"
      },
      "outputs": [
        {
          "name": "stdout",
          "output_type": "stream",
          "text": [
            "The intersection for the two list1 [1, 2, 3, 4, 5, 10, 12] and list2 [3, 4, 5, 6, 7, 10] is [3, 4, 5, 10]\n"
          ]
        }
      ],
      "source": [
        "\n",
        "def find_intersection(list1, list2):\n",
        "    intersection = []\n",
        "\n",
        "    for item in list1:\n",
        "        if item in list2:\n",
        "            intersection.append(item)\n",
        "\n",
        "    return intersection\n",
        "\n",
        "list1 = [1, 2, 3, 4, 5,10,12]\n",
        "list2 = [3, 4, 5, 6, 7,10]\n",
        "\n",
        "result_intersection = find_intersection(list1, list2)\n",
        "print(f'The intersection for the two list1 {list1} and list2 {list2} is {result_intersection}')"
      ]
    },
    {
      "cell_type": "markdown",
      "metadata": {
        "id": "o6p49VCT4LUp"
      },
      "source": [
        "Q.15: add a new key value pair to an existing dictionary"
      ]
    },
    {
      "cell_type": "code",
      "execution_count": null,
      "metadata": {
        "colab": {
          "base_uri": "https://localhost:8080/"
        },
        "id": "tlVr8Xvq4OPp",
        "outputId": "64b45728-f91f-4e8b-b797-ccb44b9dfcd7"
      },
      "outputs": [
        {
          "name": "stdout",
          "output_type": "stream",
          "text": [
            "{'name': 'Sushil', 'age': 24, 'city': 'Lalitpur', 'gender': 'Male', 'phone number': 9851228263}\n"
          ]
        }
      ],
      "source": [
        "my_dict = {\"name\": \"Sushil\", \"age\": 24, \"city\": \"Lalitpur\"}\n",
        "\n",
        "my_dict[\"gender\"] = \"Male\"\n",
        "\n",
        "my_dict[\"phone number\"] = 9851228263\n",
        "\n",
        "print(my_dict)"
      ]
    },
    {
      "cell_type": "markdown",
      "metadata": {
        "id": "CuMEG2xB4O1A"
      },
      "source": []
    },
    {
      "cell_type": "markdown",
      "metadata": {
        "id": "PQXse6-l4O6v"
      },
      "source": [
        "Q.16: implement a program that uses inheritance to represent a hierarchy of shapes (circle, triangle, rectangle etc)"
      ]
    },
    {
      "cell_type": "code",
      "execution_count": null,
      "metadata": {
        "colab": {
          "base_uri": "https://localhost:8080/"
        },
        "id": "fL6n2O4A4Sf0",
        "outputId": "ea05ac9d-0f98-4e28-f7d3-52237ca28d0a"
      },
      "outputs": [
        {
          "name": "stdout",
          "output_type": "stream",
          "text": [
            "Area of Circle: 78.53981633974483\n",
            "Area of Triangle: 14.0\n",
            "Area of Rectangle: 54\n"
          ]
        }
      ],
      "source": [
        "from math import pi\n",
        "\n",
        "class Shape:\n",
        "    def area(self):\n",
        "        pass\n",
        "\n",
        "class Circle(Shape):\n",
        "    def __init__(self, radius):\n",
        "        self.radius = radius\n",
        "\n",
        "    def area(self):\n",
        "        return pi * self.radius ** 2\n",
        "\n",
        "class Triangle(Shape):\n",
        "    def __init__(self, base, height):\n",
        "        self.base = base\n",
        "        self.height = height\n",
        "\n",
        "    def area(self):\n",
        "        return 0.5 * self.base * self.height\n",
        "\n",
        "class Rectangle(Shape):\n",
        "    def __init__(self, width, height):\n",
        "        self.width = width\n",
        "        self.height = height\n",
        "\n",
        "    def area(self):\n",
        "        return self.width * self.height\n",
        "\n",
        "circle = Circle(9)\n",
        "triangle = Triangle(7,2)\n",
        "rectangle = Rectangle(3,9)\n",
        "\n",
        "shapes = [circle, triangle, rectangle]\n",
        "\n",
        "for shape in shapes:\n",
        "    print(f\"Area of {shape.__class__.__name__}: {shape.area()}\")"
      ]
    }
  ],
  "metadata": {
    "colab": {
      "provenance": []
    },
    "kernelspec": {
      "display_name": "Python 3",
      "name": "python3"
    },
    "language_info": {
      "name": "python"
    }
  },
  "nbformat": 4,
  "nbformat_minor": 0
}